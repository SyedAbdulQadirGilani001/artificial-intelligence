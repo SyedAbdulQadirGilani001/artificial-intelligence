{
 "cells": [
  {
   "cell_type": "code",
   "execution_count": null,
   "id": "ffbdca7c",
   "metadata": {},
   "outputs": [],
   "source": [
    "'abdul'+'gilani'"
   ]
  },
  {
   "cell_type": "code",
   "execution_count": null,
   "id": "e1e2b453",
   "metadata": {},
   "outputs": [],
   "source": [
    "# \n",
    "type(11.2)"
   ]
  },
  {
   "cell_type": "code",
   "execution_count": null,
   "id": "47ea562f",
   "metadata": {},
   "outputs": [],
   "source": [
    "# pip install numpy"
   ]
  },
  {
   "cell_type": "code",
   "execution_count": null,
   "id": "6417d8e5",
   "metadata": {},
   "outputs": [],
   "source": [
    "# pip install matplotlib"
   ]
  },
  {
   "cell_type": "code",
   "execution_count": null,
   "id": "40cb392a",
   "metadata": {},
   "outputs": [],
   "source": [
    "import matplotlib.pyplot as plt"
   ]
  },
  {
   "cell_type": "code",
   "execution_count": null,
   "id": "f205500e",
   "metadata": {},
   "outputs": [],
   "source": [
    "plt.stem([1,2,3,4,5],[10,20,30,40,50])"
   ]
  },
  {
   "cell_type": "code",
   "execution_count": null,
   "id": "d623dd59",
   "metadata": {},
   "outputs": [],
   "source": [
    "plt.step([10,20,30,40,50],[0,100,101,120,150])"
   ]
  },
  {
   "cell_type": "code",
   "execution_count": null,
   "id": "c34882f4",
   "metadata": {},
   "outputs": [],
   "source": [
    "# pip install plotly.express"
   ]
  },
  {
   "cell_type": "code",
   "execution_count": null,
   "id": "ac52f158",
   "metadata": {},
   "outputs": [],
   "source": [
    "# import plotly.express as px"
   ]
  },
  {
   "cell_type": "code",
   "execution_count": null,
   "id": "d1a755c0",
   "metadata": {},
   "outputs": [],
   "source": [
    "# pip install --upgrade pandas"
   ]
  },
  {
   "cell_type": "code",
   "execution_count": null,
   "id": "a969ca15",
   "metadata": {},
   "outputs": [],
   "source": [
    "# pip install --upgrade seaborn"
   ]
  },
  {
   "cell_type": "code",
   "execution_count": null,
   "id": "80bebe47",
   "metadata": {},
   "outputs": [],
   "source": [
    "# pip install --upgrade seaborn"
   ]
  },
  {
   "cell_type": "code",
   "execution_count": null,
   "id": "e43fb668",
   "metadata": {},
   "outputs": [],
   "source": [
    "# pip install --upgrade pip"
   ]
  },
  {
   "cell_type": "code",
   "execution_count": null,
   "id": "edd16b5c",
   "metadata": {},
   "outputs": [],
   "source": [
    "import numpy as np"
   ]
  },
  {
   "cell_type": "code",
   "execution_count": null,
   "id": "58be0697",
   "metadata": {},
   "outputs": [],
   "source": [
    "import pandas as pd\n",
    "import matplotlib.pyplot as plt"
   ]
  },
  {
   "cell_type": "code",
   "execution_count": null,
   "id": "29d3b150",
   "metadata": {},
   "outputs": [],
   "source": [
    "plt.plot(np.zeros(20))"
   ]
  },
  {
   "cell_type": "code",
   "execution_count": null,
   "id": "7f1b7630",
   "metadata": {},
   "outputs": [],
   "source": [
    "import seaborn as sns"
   ]
  },
  {
   "cell_type": "code",
   "execution_count": null,
   "id": "729e3273",
   "metadata": {},
   "outputs": [],
   "source": [
    "import seaborn as sns\n",
    "tips = sns.load_dataset(\"tips\")\n",
    "ax = sns.regplot(x=\"total_bill\", y=\"tip\", data=tips)"
   ]
  },
  {
   "cell_type": "code",
   "execution_count": null,
   "id": "96c3c7ad",
   "metadata": {},
   "outputs": [],
   "source": [
    "tips.head()"
   ]
  },
  {
   "cell_type": "code",
   "execution_count": null,
   "id": "c6f574d1",
   "metadata": {},
   "outputs": [],
   "source": [
    "titanic=sns.load_dataset('titanic')\n",
    "titanic.head()"
   ]
  },
  {
   "cell_type": "code",
   "execution_count": null,
   "id": "d9a3470b",
   "metadata": {},
   "outputs": [],
   "source": [
    "l=[1,2,3,4,5,6,7,'A','B']"
   ]
  },
  {
   "cell_type": "code",
   "execution_count": null,
   "id": "b4abe91d",
   "metadata": {},
   "outputs": [],
   "source": [
    "l[0]"
   ]
  },
  {
   "cell_type": "code",
   "execution_count": null,
   "id": "51f13459",
   "metadata": {},
   "outputs": [],
   "source": [
    "l[1:3]"
   ]
  },
  {
   "cell_type": "code",
   "execution_count": null,
   "id": "ccbe53da",
   "metadata": {},
   "outputs": [],
   "source": [
    "import math\n",
    "math.pi"
   ]
  },
  {
   "cell_type": "code",
   "execution_count": null,
   "id": "7d9dd619",
   "metadata": {},
   "outputs": [],
   "source": [
    "import statistics\n",
    "statistics.median([1,2,3,4,5])"
   ]
  },
  {
   "cell_type": "code",
   "execution_count": null,
   "id": "6984aa93",
   "metadata": {},
   "outputs": [],
   "source": [
    "import pandas as pd\n",
    "import matplotlib.pyplot as plt\n",
    "plt.plot(pd.DataFrame([11,12,13,14,15]))"
   ]
  },
  {
   "cell_type": "code",
   "execution_count": null,
   "id": "7480037b",
   "metadata": {},
   "outputs": [],
   "source": [
    "def f_a():\n",
    "    n_a=20\n",
    "    return n_a\n",
    "f_a=f_a()\n",
    "print(f_a)"
   ]
  },
  {
   "cell_type": "code",
   "execution_count": null,
   "id": "f6e7bb47",
   "metadata": {},
   "outputs": [],
   "source": [
    "import math"
   ]
  },
  {
   "cell_type": "code",
   "execution_count": null,
   "id": "f1013173",
   "metadata": {},
   "outputs": [],
   "source": [
    "# pip install --upgrade math random"
   ]
  },
  {
   "cell_type": "code",
   "execution_count": null,
   "id": "de946b92",
   "metadata": {},
   "outputs": [],
   "source": [
    "math.pi"
   ]
  },
  {
   "cell_type": "code",
   "execution_count": null,
   "id": "61c78f44",
   "metadata": {},
   "outputs": [],
   "source": [
    "import statistics"
   ]
  },
  {
   "cell_type": "code",
   "execution_count": null,
   "id": "f2ce9b74",
   "metadata": {},
   "outputs": [],
   "source": [
    "# pip install --upgrade statistics"
   ]
  },
  {
   "cell_type": "code",
   "execution_count": null,
   "id": "9d8e8a5c",
   "metadata": {},
   "outputs": [],
   "source": [
    "statistics.median([1,1,1,1,1,1,11,11,11,11])"
   ]
  },
  {
   "cell_type": "code",
   "execution_count": null,
   "id": "d4b94c16",
   "metadata": {},
   "outputs": [],
   "source": [
    "# pip install --upgrade pandas"
   ]
  },
  {
   "cell_type": "code",
   "execution_count": null,
   "id": "b7588a19",
   "metadata": {},
   "outputs": [],
   "source": [
    "import pandas as pd"
   ]
  },
  {
   "cell_type": "code",
   "execution_count": null,
   "id": "6eda577e",
   "metadata": {},
   "outputs": [],
   "source": [
    "# pip install --upgrade matplotlib seaborn"
   ]
  },
  {
   "cell_type": "code",
   "execution_count": null,
   "id": "7bd5be1f",
   "metadata": {},
   "outputs": [],
   "source": [
    "import matplotlib.pyplot as plt\n"
   ]
  },
  {
   "cell_type": "code",
   "execution_count": null,
   "id": "cbedd227",
   "metadata": {},
   "outputs": [],
   "source": [
    "l=['A','B','C']"
   ]
  },
  {
   "cell_type": "code",
   "execution_count": null,
   "id": "09236f2e",
   "metadata": {},
   "outputs": [],
   "source": [
    "l=['abc']"
   ]
  },
  {
   "cell_type": "code",
   "execution_count": null,
   "id": "94a56299",
   "metadata": {},
   "outputs": [],
   "source": [
    "l*2"
   ]
  },
  {
   "cell_type": "code",
   "execution_count": null,
   "id": "3ad94502",
   "metadata": {},
   "outputs": [],
   "source": [
    "l*10"
   ]
  },
  {
   "cell_type": "code",
   "execution_count": null,
   "id": "1d19a97d",
   "metadata": {},
   "outputs": [],
   "source": [
    "l+l"
   ]
  },
  {
   "cell_type": "code",
   "execution_count": null,
   "id": "641379fe",
   "metadata": {},
   "outputs": [],
   "source": [
    "import numpy as np"
   ]
  },
  {
   "cell_type": "code",
   "execution_count": null,
   "id": "9dac5c50",
   "metadata": {},
   "outputs": [],
   "source": [
    "# pip install --upgrade numpy"
   ]
  },
  {
   "cell_type": "code",
   "execution_count": null,
   "id": "04e7a38e",
   "metadata": {},
   "outputs": [],
   "source": [
    "plt.plot(np.zeros(10))"
   ]
  },
  {
   "cell_type": "code",
   "execution_count": null,
   "id": "6712610a",
   "metadata": {},
   "outputs": [],
   "source": [
    "d={1:2,3:4}"
   ]
  },
  {
   "cell_type": "code",
   "execution_count": null,
   "id": "6c101003",
   "metadata": {},
   "outputs": [],
   "source": [
    "d.items()"
   ]
  },
  {
   "cell_type": "code",
   "execution_count": null,
   "id": "e7f95ba4",
   "metadata": {},
   "outputs": [],
   "source": [
    "d.keys()"
   ]
  },
  {
   "cell_type": "code",
   "execution_count": null,
   "id": "9351ba1f",
   "metadata": {},
   "outputs": [],
   "source": [
    "for i in d.values():\n",
    "    print(i)"
   ]
  },
  {
   "cell_type": "code",
   "execution_count": null,
   "id": "cee27cea",
   "metadata": {},
   "outputs": [],
   "source": [
    "s1={1,2,3,4,45,45,6,6,6,6,6,7,8,9,10}"
   ]
  },
  {
   "cell_type": "code",
   "execution_count": null,
   "id": "51d24bc9",
   "metadata": {},
   "outputs": [],
   "source": [
    "s1"
   ]
  },
  {
   "cell_type": "code",
   "execution_count": null,
   "id": "6e08ee86",
   "metadata": {},
   "outputs": [],
   "source": [
    "s2={1,2,3,4,5,6}"
   ]
  },
  {
   "cell_type": "code",
   "execution_count": null,
   "id": "19d04204",
   "metadata": {},
   "outputs": [],
   "source": [
    "s1.copy()"
   ]
  },
  {
   "cell_type": "code",
   "execution_count": null,
   "id": "3dba7d56",
   "metadata": {},
   "outputs": [],
   "source": [
    "a=np.array([1,2,3,4,5,6,7])\n",
    "a"
   ]
  },
  {
   "cell_type": "code",
   "execution_count": null,
   "id": "61a4ae45",
   "metadata": {},
   "outputs": [],
   "source": [
    "a=a[:,np.newaxis]"
   ]
  },
  {
   "cell_type": "code",
   "execution_count": null,
   "id": "9740840c",
   "metadata": {},
   "outputs": [],
   "source": [
    "a"
   ]
  },
  {
   "cell_type": "code",
   "execution_count": null,
   "id": "06347286",
   "metadata": {},
   "outputs": [],
   "source": [
    "a.shape"
   ]
  },
  {
   "cell_type": "code",
   "execution_count": null,
   "id": "4e3c9be9",
   "metadata": {},
   "outputs": [],
   "source": [
    "a=np.array([10,11,12,13,14,15])\n",
    "b=np.array([[20,21,22,23,24,25]])"
   ]
  },
  {
   "cell_type": "code",
   "execution_count": null,
   "id": "4d2f9624",
   "metadata": {},
   "outputs": [],
   "source": [
    "a.shape"
   ]
  },
  {
   "cell_type": "code",
   "execution_count": null,
   "id": "ebf863a1",
   "metadata": {},
   "outputs": [],
   "source": [
    "a.resphae()"
   ]
  },
  {
   "cell_type": "code",
   "execution_count": null,
   "id": "92c0b058",
   "metadata": {},
   "outputs": [],
   "source": [
    "a.shape"
   ]
  },
  {
   "cell_type": "code",
   "execution_count": null,
   "id": "bdd92b5b",
   "metadata": {},
   "outputs": [],
   "source": [
    "a.reshape(3,2,order='C')"
   ]
  },
  {
   "cell_type": "code",
   "execution_count": null,
   "id": "81289efa",
   "metadata": {},
   "outputs": [],
   "source": [
    "import seaborn as sns\n",
    "titanic=sns.load_dataset('titanic')\n",
    "titanic"
   ]
  },
  {
   "cell_type": "code",
   "execution_count": null,
   "id": "175494c9",
   "metadata": {},
   "outputs": [],
   "source": [
    "plt.plot(titanic['survived'])"
   ]
  },
  {
   "cell_type": "code",
   "execution_count": null,
   "id": "fff44550",
   "metadata": {},
   "outputs": [],
   "source": [
    "a=pd.Series([1,2,3,4,5,6,7])\n",
    "a"
   ]
  },
  {
   "cell_type": "code",
   "execution_count": null,
   "id": "eabce312",
   "metadata": {},
   "outputs": [],
   "source": [
    "plt.plot(a)"
   ]
  },
  {
   "cell_type": "code",
   "execution_count": null,
   "id": "12401409",
   "metadata": {},
   "outputs": [],
   "source": [
    "d=pd.date_range('20220701',periods=4)"
   ]
  },
  {
   "cell_type": "code",
   "execution_count": null,
   "id": "02bbf7e8",
   "metadata": {},
   "outputs": [],
   "source": [
    "pd.DataFrame(np.random.randn(4,6),index=d,columns=list('abcdef'))"
   ]
  },
  {
   "cell_type": "code",
   "execution_count": null,
   "id": "36bd9e8f",
   "metadata": {},
   "outputs": [],
   "source": [
    "pd.Timestamp('20220701')"
   ]
  },
  {
   "cell_type": "code",
   "execution_count": null,
   "id": "bba43224",
   "metadata": {},
   "outputs": [],
   "source": [
    "pd.Categorical([1,2,0,0])"
   ]
  },
  {
   "cell_type": "code",
   "execution_count": null,
   "id": "f7a7e64b",
   "metadata": {},
   "outputs": [],
   "source": [
    "titanic.to_numpy()"
   ]
  },
  {
   "cell_type": "code",
   "execution_count": null,
   "id": "56429351",
   "metadata": {},
   "outputs": [],
   "source": [
    "titanic.describe()"
   ]
  },
  {
   "cell_type": "code",
   "execution_count": null,
   "id": "ecb89bca",
   "metadata": {},
   "outputs": [],
   "source": [
    "titanic.transpose()"
   ]
  },
  {
   "cell_type": "code",
   "execution_count": null,
   "id": "7fe0dca8",
   "metadata": {},
   "outputs": [],
   "source": [
    "titanic.sort_values(by='alive')"
   ]
  },
  {
   "cell_type": "code",
   "execution_count": null,
   "id": "de80f93d",
   "metadata": {},
   "outputs": [],
   "source": [
    "a"
   ]
  },
  {
   "cell_type": "code",
   "execution_count": null,
   "id": "b01838cd",
   "metadata": {},
   "outputs": [],
   "source": [
    "a.at([5])"
   ]
  },
  {
   "cell_type": "code",
   "execution_count": null,
   "id": "0cfddb7b",
   "metadata": {},
   "outputs": [],
   "source": [
    "df=pd.DataFrame(np.random.randn(10,10),columns=list('ABCDEFGHIJ'))"
   ]
  },
  {
   "cell_type": "code",
   "execution_count": null,
   "id": "17a522e3",
   "metadata": {},
   "outputs": [],
   "source": [
    "df"
   ]
  },
  {
   "cell_type": "code",
   "execution_count": null,
   "id": "4d8a5173",
   "metadata": {},
   "outputs": [],
   "source": [
    "\n",
    "df.at[4, 'B']"
   ]
  },
  {
   "cell_type": "code",
   "execution_count": null,
   "id": "3f1af3d4",
   "metadata": {},
   "outputs": [],
   "source": [
    "df['mean']=df.mean()[['A','B','C','D','E','F','G','H','I','J']]"
   ]
  },
  {
   "cell_type": "code",
   "execution_count": null,
   "id": "7a3ce284",
   "metadata": {},
   "outputs": [],
   "source": [
    "df.head()"
   ]
  },
  {
   "cell_type": "code",
   "execution_count": null,
   "id": "3009b083",
   "metadata": {},
   "outputs": [],
   "source": [
    "# pip install --upgrade plotly.express"
   ]
  },
  {
   "cell_type": "code",
   "execution_count": null,
   "id": "ebd8667e",
   "metadata": {},
   "outputs": [],
   "source": [
    "sns.boxplot(x='survived',y='age',data=titanic)"
   ]
  },
  {
   "cell_type": "code",
   "execution_count": null,
   "id": "9c395cd2",
   "metadata": {},
   "outputs": [],
   "source": [
    "df.to_csv()"
   ]
  },
  {
   "cell_type": "code",
   "execution_count": null,
   "id": "8e942bae",
   "metadata": {},
   "outputs": [],
   "source": [
    "df.to_excel('output.xlsx',sheet_name='Sheet1')"
   ]
  },
  {
   "cell_type": "code",
   "execution_count": null,
   "id": "741a783e",
   "metadata": {},
   "outputs": [],
   "source": [
    "# pip install --upgrade openpyxl"
   ]
  },
  {
   "cell_type": "code",
   "execution_count": null,
   "id": "2f2e26b0",
   "metadata": {},
   "outputs": [],
   "source": [
    "# pip install --upgrade selenium"
   ]
  },
  {
   "cell_type": "code",
   "execution_count": null,
   "id": "7df139bc",
   "metadata": {},
   "outputs": [],
   "source": [
    "titanic=titanic.drop(['deck','embark_town','alone'],axis=1)\n",
    "titanic.head()"
   ]
  },
  {
   "cell_type": "code",
   "execution_count": null,
   "id": "d40b7752",
   "metadata": {},
   "outputs": [],
   "source": [
    "titanic.mean()"
   ]
  },
  {
   "cell_type": "code",
   "execution_count": null,
   "id": "9a666c70",
   "metadata": {},
   "outputs": [],
   "source": [
    "titanic.groupby(['age','class'])"
   ]
  },
  {
   "cell_type": "code",
   "execution_count": null,
   "id": "ad57925d",
   "metadata": {},
   "outputs": [],
   "source": [
    "titanic.groupby(['sex','class']).mean()"
   ]
  },
  {
   "cell_type": "code",
   "execution_count": null,
   "id": "e75d8054",
   "metadata": {},
   "outputs": [],
   "source": [
    "titanic.value_counts(['survived'])"
   ]
  },
  {
   "cell_type": "code",
   "execution_count": null,
   "id": "2e88c660",
   "metadata": {},
   "outputs": [],
   "source": [
    "titanic.groupby(['sex']).mean()"
   ]
  },
  {
   "cell_type": "code",
   "execution_count": null,
   "id": "7b6fb099",
   "metadata": {},
   "outputs": [],
   "source": [
    "titanic[titanic['age']<18].groupby(['sex','class']).mean()"
   ]
  },
  {
   "cell_type": "code",
   "execution_count": null,
   "id": "87ba3b82",
   "metadata": {},
   "outputs": [],
   "source": [
    "statistics.stdev([1,2,3,4,5,5,5,5,5,5,5])"
   ]
  },
  {
   "cell_type": "code",
   "execution_count": null,
   "id": "3c8e87e5",
   "metadata": {},
   "outputs": [],
   "source": [
    "titanic.head()"
   ]
  },
  {
   "cell_type": "code",
   "execution_count": null,
   "id": "5ff73b77",
   "metadata": {},
   "outputs": [],
   "source": [
    "titanic.to_csv()"
   ]
  },
  {
   "cell_type": "code",
   "execution_count": null,
   "id": "b0cf7bb1",
   "metadata": {},
   "outputs": [],
   "source": [
    "titanic.info()"
   ]
  },
  {
   "cell_type": "code",
   "execution_count": null,
   "id": "7ebea5d5",
   "metadata": {},
   "outputs": [],
   "source": [
    "titanic.shape"
   ]
  },
  {
   "cell_type": "code",
   "execution_count": null,
   "id": "d4756c82",
   "metadata": {},
   "outputs": [],
   "source": [
    "titanic.tail()"
   ]
  },
  {
   "cell_type": "code",
   "execution_count": null,
   "id": "906f2d25",
   "metadata": {},
   "outputs": [],
   "source": [
    "titanic.describe()"
   ]
  },
  {
   "cell_type": "code",
   "execution_count": null,
   "id": "7ae62459",
   "metadata": {},
   "outputs": [],
   "source": [
    "titanic.nunique()"
   ]
  },
  {
   "cell_type": "code",
   "execution_count": null,
   "id": "68a1b727",
   "metadata": {},
   "outputs": [],
   "source": [
    "titanic.columns"
   ]
  },
  {
   "cell_type": "code",
   "execution_count": null,
   "id": "7d902ea2",
   "metadata": {},
   "outputs": [],
   "source": [
    "titanic['sex'].unique()"
   ]
  },
  {
   "cell_type": "code",
   "execution_count": null,
   "id": "641752d8",
   "metadata": {},
   "outputs": [],
   "source": [
    "titanic[['who','adult_male']].nunique()"
   ]
  },
  {
   "cell_type": "code",
   "execution_count": null,
   "id": "59a45308",
   "metadata": {},
   "outputs": [],
   "source": [
    "titanic['who'],titanic['adult_male'].nunique()"
   ]
  },
  {
   "cell_type": "code",
   "execution_count": null,
   "id": "9531631b",
   "metadata": {},
   "outputs": [],
   "source": [
    "titanic.isnull().sum()"
   ]
  },
  {
   "cell_type": "code",
   "execution_count": null,
   "id": "66013e28",
   "metadata": {},
   "outputs": [],
   "source": [
    "titanic.drop(['embarked'],axis=1)"
   ]
  },
  {
   "cell_type": "code",
   "execution_count": null,
   "id": "02edc26e",
   "metadata": {},
   "outputs": [],
   "source": [
    "titanic.shape"
   ]
  },
  {
   "cell_type": "code",
   "execution_count": null,
   "id": "a7bf67ec",
   "metadata": {},
   "outputs": [],
   "source": [
    "891-177"
   ]
  },
  {
   "cell_type": "code",
   "execution_count": null,
   "id": "5f5a1604",
   "metadata": {},
   "outputs": [],
   "source": [
    "titanic.dropna().shape"
   ]
  },
  {
   "cell_type": "code",
   "execution_count": null,
   "id": "50e4ce4f",
   "metadata": {},
   "outputs": [],
   "source": [
    "titanic.shape"
   ]
  },
  {
   "cell_type": "code",
   "execution_count": null,
   "id": "eb1d69cb",
   "metadata": {},
   "outputs": [],
   "source": [
    "titanic.isnull().sum()"
   ]
  },
  {
   "cell_type": "code",
   "execution_count": null,
   "id": "f47d6cdc",
   "metadata": {},
   "outputs": [],
   "source": [
    "titanic.dropna(inplace=True)"
   ]
  },
  {
   "cell_type": "code",
   "execution_count": null,
   "id": "07abc167",
   "metadata": {},
   "outputs": [],
   "source": [
    "titanic.isnull().shape"
   ]
  },
  {
   "cell_type": "code",
   "execution_count": null,
   "id": "a1098735",
   "metadata": {},
   "outputs": [],
   "source": [
    "titanic['sex'].value_counts()"
   ]
  },
  {
   "cell_type": "code",
   "execution_count": null,
   "id": "7f626873",
   "metadata": {},
   "outputs": [],
   "source": [
    "titanic.describe()"
   ]
  },
  {
   "cell_type": "code",
   "execution_count": null,
   "id": "75ee8655",
   "metadata": {},
   "outputs": [],
   "source": [
    "sns.boxplot(x='sex',y='age',data=titanic)"
   ]
  },
  {
   "cell_type": "code",
   "execution_count": null,
   "id": "a577aaf9",
   "metadata": {},
   "outputs": [],
   "source": [
    "sns.boxplot(x='age',data=titanic)"
   ]
  },
  {
   "cell_type": "code",
   "execution_count": null,
   "id": "9a7e81ac",
   "metadata": {},
   "outputs": [],
   "source": [
    "sns.distplot(x=titanic['age'])"
   ]
  },
  {
   "cell_type": "code",
   "execution_count": null,
   "id": "e4430b79",
   "metadata": {},
   "outputs": [],
   "source": [
    "titanic['age'].mean()"
   ]
  },
  {
   "cell_type": "code",
   "execution_count": null,
   "id": "a7a0d0c0",
   "metadata": {},
   "outputs": [],
   "source": [
    "titanic['age']=titanic['age']<68"
   ]
  },
  {
   "cell_type": "code",
   "execution_count": null,
   "id": "c1c5fb25",
   "metadata": {},
   "outputs": [],
   "source": [
    "titanic.mean()"
   ]
  },
  {
   "cell_type": "code",
   "execution_count": null,
   "id": "79a62080",
   "metadata": {},
   "outputs": [],
   "source": [
    "titanic"
   ]
  },
  {
   "cell_type": "code",
   "execution_count": null,
   "id": "1c6cd90a",
   "metadata": {},
   "outputs": [],
   "source": [
    "titanic=titanic[titanic['age']<68]"
   ]
  },
  {
   "cell_type": "code",
   "execution_count": null,
   "id": "efe16e19",
   "metadata": {},
   "outputs": [],
   "source": [
    "titanic"
   ]
  },
  {
   "cell_type": "code",
   "execution_count": null,
   "id": "12626144",
   "metadata": {},
   "outputs": [],
   "source": [
    "titanic.shape"
   ]
  },
  {
   "cell_type": "code",
   "execution_count": null,
   "id": "e8d8ea99",
   "metadata": {},
   "outputs": [],
   "source": [
    "titanic['age'].mean()"
   ]
  },
  {
   "cell_type": "code",
   "execution_count": null,
   "id": "8245147c",
   "metadata": {},
   "outputs": [],
   "source": [
    "sns.distplot(titanic['age'])"
   ]
  },
  {
   "cell_type": "code",
   "execution_count": null,
   "id": "a930524b",
   "metadata": {},
   "outputs": [],
   "source": [
    "titanic.boxplot()"
   ]
  },
  {
   "cell_type": "code",
   "execution_count": null,
   "id": "e122c1a2",
   "metadata": {},
   "outputs": [],
   "source": [
    "titanic[titanic['fare']<300].boxplot()"
   ]
  },
  {
   "cell_type": "code",
   "execution_count": null,
   "id": "161ea2cd",
   "metadata": {},
   "outputs": [],
   "source": [
    "sns.distplot(titanic['fare'])"
   ]
  },
  {
   "cell_type": "code",
   "execution_count": null,
   "id": "f163890b",
   "metadata": {},
   "outputs": [],
   "source": [
    "titanic[titanic['fare']<200].boxplot()"
   ]
  },
  {
   "cell_type": "code",
   "execution_count": null,
   "id": "75fe3053",
   "metadata": {},
   "outputs": [],
   "source": [
    "titanic.hist()"
   ]
  },
  {
   "cell_type": "code",
   "execution_count": null,
   "id": "9c8fc3f3",
   "metadata": {},
   "outputs": [],
   "source": [
    "pd.value_counts(titanic['survived']).plot.bar()"
   ]
  },
  {
   "cell_type": "code",
   "execution_count": null,
   "id": "1d7e2729",
   "metadata": {},
   "outputs": [],
   "source": [
    "titanic.groupby(['sex','class']).mean()"
   ]
  },
  {
   "cell_type": "code",
   "execution_count": null,
   "id": "e562b1a1",
   "metadata": {},
   "outputs": [],
   "source": [
    "titanic.groupby(['sex','class']).plot.bar()"
   ]
  },
  {
   "cell_type": "code",
   "execution_count": null,
   "id": "195a97de",
   "metadata": {},
   "outputs": [],
   "source": [
    "titanic.groupby(['sex','class','who']).mean()"
   ]
  },
  {
   "cell_type": "code",
   "execution_count": null,
   "id": "689ac3c5",
   "metadata": {},
   "outputs": [],
   "source": [
    "titanic.corr()"
   ]
  },
  {
   "cell_type": "code",
   "execution_count": null,
   "id": "d0b57458",
   "metadata": {},
   "outputs": [],
   "source": [
    "sns.heatmap(titanic.corr(),annot=True)"
   ]
  },
  {
   "cell_type": "code",
   "execution_count": null,
   "id": "59050536",
   "metadata": {},
   "outputs": [],
   "source": [
    "sns.relplot(x='age',y='fare',data=titanic)"
   ]
  },
  {
   "cell_type": "code",
   "execution_count": null,
   "id": "9c2af05b",
   "metadata": {},
   "outputs": [],
   "source": [
    "# pearson\n",
    "sns.relplot(x='age',y='fare',hue='sex',data=titanic)"
   ]
  },
  {
   "cell_type": "code",
   "execution_count": null,
   "id": "4485ff1e",
   "metadata": {},
   "outputs": [],
   "source": [
    "sns.catplot(x='age',y='fare',hue='sex',data=titanic)"
   ]
  },
  {
   "cell_type": "code",
   "execution_count": null,
   "id": "ad31ba28",
   "metadata": {},
   "outputs": [],
   "source": [
    "math.ceil(3.66)"
   ]
  },
  {
   "cell_type": "code",
   "execution_count": null,
   "id": "53201349",
   "metadata": {},
   "outputs": [],
   "source": [
    "statistics.mean([11,12,13,14,15,100,101,102])"
   ]
  },
  {
   "cell_type": "code",
   "execution_count": null,
   "id": "ab7a8a55",
   "metadata": {},
   "outputs": [],
   "source": [
    "n=input()\n",
    "w=float(input())\n",
    "h=int(input())\n",
    "print(n,'is',w/h**2)"
   ]
  },
  {
   "cell_type": "code",
   "execution_count": null,
   "id": "9f9903a6",
   "metadata": {},
   "outputs": [],
   "source": [
    "titanic=sns.load_dataset('titanic')\n",
    "titanic"
   ]
  },
  {
   "cell_type": "code",
   "execution_count": null,
   "id": "b9b1ec20",
   "metadata": {},
   "outputs": [],
   "source": [
    "sns.catplot(x='sex',y='survived',hue='class',kind='bar',data=titanic)\n",
    "plt.show()"
   ]
  },
  {
   "cell_type": "code",
   "execution_count": null,
   "id": "5795f2e9",
   "metadata": {},
   "outputs": [],
   "source": [
    "# sns.set_theme(style='ticks',color_codes=True)\n",
    "g=sns.FacetGrid(titanic,row='sex',hue='alone')\n",
    "g=(g.map(plt.scatter,'age','fare').add_legend())"
   ]
  },
  {
   "cell_type": "code",
   "execution_count": null,
   "id": "785531c1",
   "metadata": {},
   "outputs": [],
   "source": [
    "g=sns.countplot(x='who',data=titanic,hue='class')\n",
    "g.set_title('Plot')"
   ]
  },
  {
   "cell_type": "code",
   "execution_count": null,
   "id": "c54cd400",
   "metadata": {},
   "outputs": [],
   "source": [
    "import numpy as np\n",
    "import matplotlib.pyplot as plt\n",
    "import pandas as pd"
   ]
  },
  {
   "cell_type": "code",
   "execution_count": null,
   "id": "e0dbbe97",
   "metadata": {},
   "outputs": [],
   "source": [
    "plt.plot(pd.DataFrame([1,2,3,4,5,6,np.nan,np.nan]))"
   ]
  },
  {
   "cell_type": "code",
   "execution_count": null,
   "id": "09115127",
   "metadata": {},
   "outputs": [],
   "source": [
    "import seaborn as sns\n",
    "import plotly.express as px"
   ]
  },
  {
   "cell_type": "code",
   "execution_count": null,
   "id": "50d18f9d",
   "metadata": {},
   "outputs": [],
   "source": [
    "titanic=sns.load_dataset('titanic')\n",
    "sns.countplot(x='sex',data=titanic)"
   ]
  },
  {
   "cell_type": "code",
   "execution_count": null,
   "id": "14d4026c",
   "metadata": {},
   "outputs": [],
   "source": [
    "p=sns.countplot(x='sex',data=titanic,hue='class')\n",
    "p.set_title('Plotting')"
   ]
  },
  {
   "cell_type": "code",
   "execution_count": null,
   "id": "43f68b2e",
   "metadata": {},
   "outputs": [],
   "source": [
    "titanic.head()"
   ]
  },
  {
   "cell_type": "code",
   "execution_count": null,
   "id": "1c73fe39",
   "metadata": {},
   "outputs": [],
   "source": [
    "iris=sns.load_dataset('iris')\n",
    "iris.head()"
   ]
  },
  {
   "cell_type": "code",
   "execution_count": null,
   "id": "859c5ab2",
   "metadata": {},
   "outputs": [],
   "source": [
    "sns.lineplot(x='sepal_length',y='sepal_width',data=iris)"
   ]
  },
  {
   "cell_type": "code",
   "execution_count": null,
   "id": "f45df293",
   "metadata": {},
   "outputs": [],
   "source": [
    "sns.lineplot(x='sepal_length',y='sepal_width',data=iris)\n",
    "plt.xlim(2)\n",
    "plt.ylim(1)"
   ]
  },
  {
   "cell_type": "code",
   "execution_count": null,
   "id": "c78f79f6",
   "metadata": {},
   "outputs": [],
   "source": [
    "# sns.set_style()\n",
    "# None, rc=none\n",
    "plt.figure(figsize=(8,6))"
   ]
  },
  {
   "cell_type": "code",
   "execution_count": null,
   "id": "c70bdd40",
   "metadata": {},
   "outputs": [],
   "source": [
    "sns.barplot(x='species',y='petal_width',data=iris)"
   ]
  },
  {
   "cell_type": "code",
   "execution_count": null,
   "id": "843117ae",
   "metadata": {},
   "outputs": [],
   "source": [
    "sns.barplot(x='who',y='alone',hue='sex',data=titanic)"
   ]
  },
  {
   "cell_type": "code",
   "execution_count": null,
   "id": "bca81685",
   "metadata": {},
   "outputs": [],
   "source": [
    "sns.barplot(x='sex',y='alone',hue='who',data=titanic,order=['female','male'])"
   ]
  },
  {
   "cell_type": "code",
   "execution_count": null,
   "id": "2cf7eb0e",
   "metadata": {},
   "outputs": [],
   "source": [
    "sns.barplot(x='sex',y='alone',hue='who',data=titanic,order=['female','male'],color='salmon')"
   ]
  },
  {
   "cell_type": "code",
   "execution_count": null,
   "id": "ae8fa140",
   "metadata": {},
   "outputs": [],
   "source": [
    "sns.barplot(x='sex',y='alone',hue='who',data=titanic,order=['female','male'],ci=None)"
   ]
  },
  {
   "cell_type": "code",
   "execution_count": null,
   "id": "960fe8d2",
   "metadata": {},
   "outputs": [],
   "source": [
    "sns.barplot(x='sex',y='alone',hue='who',data=titanic,order=['female','male'],palette='pastel')"
   ]
  },
  {
   "cell_type": "code",
   "execution_count": null,
   "id": "bf641b78",
   "metadata": {},
   "outputs": [],
   "source": [
    "sns.barplot(x='sex',y='alone',hue='who',data=titanic,order=['female','male'],estimator=np.mean)"
   ]
  },
  {
   "cell_type": "code",
   "execution_count": null,
   "id": "a55e907b",
   "metadata": {},
   "outputs": [],
   "source": [
    "sns.barplot(x='sex',y='alone',hue='who',data=titanic,order=['female','male'],saturation=0.3)"
   ]
  },
  {
   "cell_type": "code",
   "execution_count": null,
   "id": "e716bef7",
   "metadata": {},
   "outputs": [],
   "source": [
    "sns.barplot(x='fare',y='class',hue='sex',data=titanic,saturation=0.3)"
   ]
  },
  {
   "cell_type": "code",
   "execution_count": null,
   "id": "11c3f0cd",
   "metadata": {},
   "outputs": [],
   "source": [
    "sns.barplot(x='sex',y='alone',hue='who',data=titanic,linewidth=.4,facecolor=(1,1,1,0),errcolor='0.2',edgecolor='.3')"
   ]
  },
  {
   "cell_type": "code",
   "execution_count": null,
   "id": "2cb45015",
   "metadata": {},
   "outputs": [],
   "source": [
    "sns.barplot(x='sex',y='alone',hue='who',data=titanic,linewidth=.9,facecolor=(1,1,1,1),errcolor='1',edgecolor='1')"
   ]
  },
  {
   "cell_type": "code",
   "execution_count": null,
   "id": "b958f1de",
   "metadata": {},
   "outputs": [],
   "source": [
    "fmri=sns.load_dataset('fmri')\n",
    "sns.boxplot(x='timepoint',y='signal',data=fmri)"
   ]
  },
  {
   "cell_type": "code",
   "execution_count": null,
   "id": "7fb7db64",
   "metadata": {},
   "outputs": [],
   "source": [
    "tips=sns.load_dataset('tips')\n",
    "sns.boxplot(x='day',y='tip',data=tips,saturation=1)"
   ]
  },
  {
   "cell_type": "code",
   "execution_count": null,
   "id": "090e629e",
   "metadata": {},
   "outputs": [],
   "source": [
    "tips.describe()"
   ]
  },
  {
   "cell_type": "code",
   "execution_count": null,
   "id": "5d9caeed",
   "metadata": {},
   "outputs": [],
   "source": [
    "sns.boxplot(x=tips['total_bill'])"
   ]
  },
  {
   "cell_type": "code",
   "execution_count": null,
   "id": "faf57552",
   "metadata": {},
   "outputs": [],
   "source": [
    "# sns.set('whitegrid')\n",
    "sns.boxplot(x='timepoint',y='signal',data=fmri,dodge=False,palette='Set2')"
   ]
  },
  {
   "cell_type": "code",
   "execution_count": null,
   "id": "6a7824b8",
   "metadata": {},
   "outputs": [],
   "source": [
    "iris = sns.load_dataset(\"iris\")\n",
    "ax = sns.boxplot(data=iris, orient=\"h\", palette=\"Set2\")\n"
   ]
  },
  {
   "cell_type": "code",
   "execution_count": null,
   "id": "275a6662",
   "metadata": {},
   "outputs": [],
   "source": [
    "tips[\"weekend\"] = tips[\"day\"].isin([\"Sat\", \"Sun\"])\n",
    "ax = sns.boxplot(x=\"day\", y=\"total_bill\", hue=\"weekend\",\n",
    "                 data=tips, dodge=False)"
   ]
  },
  {
   "cell_type": "code",
   "execution_count": null,
   "id": "905455d3",
   "metadata": {},
   "outputs": [],
   "source": [
    "tips[\"weekend\"] = tips[\"day\"].isin([\"Sat\", \"Sun\"])\n",
    "ax = sns.boxplot(x=\"day\", y=\"total_bill\", hue=\"weekend\",\n",
    "                 data=tips, dodge=False,showmeans=True)"
   ]
  },
  {
   "cell_type": "code",
   "execution_count": null,
   "id": "80f07445",
   "metadata": {},
   "outputs": [],
   "source": [
    "tips[\"weekend\"] = tips[\"day\"].isin([\"Sat\", \"Sun\"])\n",
    "ax = sns.boxplot(x=\"day\", y=\"total_bill\", hue=\"weekend\",\n",
    "                 data=tips, dodge=False,meanprops={'marker':'*','markersize':'14','markeredgecolor':'black'},showmeans=True)\n",
    "plt.xlabel('Days')\n",
    "plt.title('BoxPlot',weight='bold')"
   ]
  },
  {
   "cell_type": "code",
   "execution_count": null,
   "id": "f6ee8836",
   "metadata": {},
   "outputs": [],
   "source": [
    "sns.color_palette('rocket_r')\n",
    "dots=sns.load_dataset('dots')\n",
    "sns.relplot(data=dots,x='firing_rate',y='time',hue='coherence',size='choice',col='align')"
   ]
  },
  {
   "cell_type": "code",
   "execution_count": null,
   "id": "a45ff5a1",
   "metadata": {},
   "outputs": [],
   "source": [
    "import seaborn as sns\n",
    "sns.set_theme(style=\"whitegrid\")\n",
    "tips = sns.load_dataset(\"tips\")\n",
    "ax = sns.violinplot(x=tips[\"total_bill\"])"
   ]
  },
  {
   "cell_type": "code",
   "execution_count": null,
   "id": "63133ffc",
   "metadata": {},
   "outputs": [],
   "source": [
    "x = sns.violinplot(x=\"day\", y=\"total_bill\", data=tips)"
   ]
  },
  {
   "cell_type": "code",
   "execution_count": null,
   "id": "0ae07548",
   "metadata": {},
   "outputs": [],
   "source": [
    "ax = sns.violinplot(x=\"day\", y=\"total_bill\", hue=\"smoker\",\n",
    "                    data=tips, palette=\"muted\")"
   ]
  },
  {
   "cell_type": "code",
   "execution_count": null,
   "id": "d0555deb",
   "metadata": {},
   "outputs": [],
   "source": [
    "ax = sns.violinplot(x=\"time\", y=\"tip\", data=tips,\n",
    "                    order=[\"Dinner\", \"Lunch\"])"
   ]
  },
  {
   "cell_type": "code",
   "execution_count": null,
   "id": "396406d7",
   "metadata": {},
   "outputs": [],
   "source": [
    "import seaborn as sns\n",
    "import matplotlib.pyplot as plt\n",
    "sns.set_theme(style=\"whitegrid\")\n",
    "\n",
    "# Load the example diamonds dataset\n",
    "diamonds = sns.load_dataset(\"diamonds\")\n",
    "\n",
    "# Draw a scatter plot while assigning point colors and sizes to different\n",
    "# variables in the dataset\n",
    "f, ax = plt.subplots(figsize=(6.5, 6.5))\n",
    "sns.despine(f, left=True, bottom=True)\n",
    "clarity_ranking = [\"I1\", \"SI2\", \"SI1\", \"VS2\", \"VS1\", \"VVS2\", \"VVS1\", \"IF\"]\n",
    "sns.scatterplot(x=\"carat\", y=\"price\",\n",
    "                hue=\"clarity\", size=\"depth\",\n",
    "                palette=\"ch:r=-.2,d=.3_r\",\n",
    "                hue_order=clarity_ranking,\n",
    "                sizes=(1, 8), linewidth=0,\n",
    "                data=diamonds, ax=ax)"
   ]
  },
  {
   "cell_type": "code",
   "execution_count": null,
   "id": "bb85e053",
   "metadata": {},
   "outputs": [],
   "source": [
    "import seaborn as sns\n",
    "sns.set_theme(style=\"whitegrid\")\n",
    "tips = sns.load_dataset(\"tips\")\n",
    "ax = sns.boxenplot(x=tips[\"total_bill\"])"
   ]
  },
  {
   "cell_type": "code",
   "execution_count": null,
   "id": "d7353e6f",
   "metadata": {},
   "outputs": [],
   "source": [
    "ax = sns.boxenplot(x=\"day\", y=\"total_bill\", data=tips)"
   ]
  },
  {
   "cell_type": "code",
   "execution_count": null,
   "id": "46210756",
   "metadata": {},
   "outputs": [],
   "source": [
    "sns.boxplot(x=iris['sepal_length'])"
   ]
  },
  {
   "cell_type": "code",
   "execution_count": null,
   "id": "9a4fcebf",
   "metadata": {},
   "outputs": [],
   "source": [
    "sns.set_style('whitegrid')"
   ]
  },
  {
   "cell_type": "code",
   "execution_count": null,
   "id": "d958350d",
   "metadata": {},
   "outputs": [],
   "source": [
    "# Turns off grid on the left Axis.\n",
    "ax.grid(False)\n"
   ]
  },
  {
   "cell_type": "code",
   "execution_count": null,
   "id": "16356ea6",
   "metadata": {},
   "outputs": [],
   "source": [
    "sns.set_style(\"ticks\")"
   ]
  },
  {
   "cell_type": "code",
   "execution_count": null,
   "id": "0aa10aa3",
   "metadata": {},
   "outputs": [],
   "source": [
    "import plotly.express as px\n",
    "\n",
    "df = px.data.gapminder().query(\"country=='Canada'\")\n",
    "fig = px.line(df, x=\"year\", y=\"lifeExp\", title='Life expectancy in Canada')\n",
    "fig.show()"
   ]
  },
  {
   "cell_type": "code",
   "execution_count": null,
   "id": "22f911ff",
   "metadata": {},
   "outputs": [],
   "source": [
    "import plotly.graph_objects as go\n",
    "import numpy as np\n",
    "\n",
    "# Helix equation\n",
    "t = np.linspace(0, 20, 100)\n",
    "x, y, z = np.cos(t), np.sin(t), t\n",
    "\n",
    "fig = go.Figure(data=[go.Scatter3d(\n",
    "    x=x,\n",
    "    y=y,\n",
    "    z=z,\n",
    "    mode='markers',\n",
    "    marker=dict(\n",
    "        size=12,\n",
    "        color=z,                # set color to an array/list of desired values\n",
    "        colorscale='Viridis',   # choose a colorscale\n",
    "        opacity=0.8\n",
    "    )\n",
    ")])\n",
    "\n",
    "# tight layout\n",
    "fig.update_layout(margin=dict(l=0, r=0, b=0, t=0))\n",
    "fig.show()"
   ]
  },
  {
   "cell_type": "code",
   "execution_count": null,
   "id": "244b8448",
   "metadata": {},
   "outputs": [],
   "source": [
    "np.array([1,1,1,1,1,1,1,1,1,1,1,1,1,1])"
   ]
  },
  {
   "cell_type": "code",
   "execution_count": null,
   "id": "2e92405c",
   "metadata": {},
   "outputs": [],
   "source": [
    "a=np.array([1,2,3,4,5])\n",
    "a"
   ]
  },
  {
   "cell_type": "code",
   "execution_count": null,
   "id": "6dd66531",
   "metadata": {},
   "outputs": [],
   "source": [
    "a.shape"
   ]
  },
  {
   "cell_type": "code",
   "execution_count": null,
   "id": "fb6bf229",
   "metadata": {},
   "outputs": [],
   "source": [
    "a=a[np.newaxis,:]"
   ]
  },
  {
   "cell_type": "code",
   "execution_count": null,
   "id": "dc7c74d3",
   "metadata": {},
   "outputs": [],
   "source": [
    "a.shape"
   ]
  },
  {
   "cell_type": "code",
   "execution_count": null,
   "id": "b34d8e5c",
   "metadata": {},
   "outputs": [],
   "source": [
    "a"
   ]
  },
  {
   "cell_type": "code",
   "execution_count": null,
   "id": "822056d2",
   "metadata": {},
   "outputs": [],
   "source": [
    "np.arange(3,31,3)"
   ]
  },
  {
   "cell_type": "code",
   "execution_count": null,
   "id": "b8d46988",
   "metadata": {},
   "outputs": [],
   "source": [
    "np.arange(4,44,4)"
   ]
  },
  {
   "cell_type": "code",
   "execution_count": null,
   "id": "15d2b397",
   "metadata": {},
   "outputs": [],
   "source": [
    "np.linspace(0,100,num=20)"
   ]
  },
  {
   "cell_type": "code",
   "execution_count": null,
   "id": "06a2d5a9",
   "metadata": {},
   "outputs": [],
   "source": [
    "a=np.array([[1,2,3,4,5]])\n",
    "b=np.array([[11,12,13,14,15]])\n",
    "np.concatenate((a,b),axis=1)"
   ]
  },
  {
   "cell_type": "code",
   "execution_count": null,
   "id": "4b261df7",
   "metadata": {},
   "outputs": [],
   "source": [
    "np.concatenate((a,b),axis=0)"
   ]
  },
  {
   "cell_type": "code",
   "execution_count": null,
   "id": "ff1ba36d",
   "metadata": {},
   "outputs": [],
   "source": [
    "a = np.array((1,2,3))\n",
    "b = np.array((4,5,6))\n",
    "np.hstack((a,b))"
   ]
  },
  {
   "cell_type": "code",
   "execution_count": null,
   "id": "95312f98",
   "metadata": {},
   "outputs": [],
   "source": [
    "np.vstack((a,b))"
   ]
  },
  {
   "cell_type": "code",
   "execution_count": null,
   "id": "44ae1b96",
   "metadata": {},
   "outputs": [],
   "source": [
    "np.dstack((a,b))"
   ]
  },
  {
   "cell_type": "code",
   "execution_count": null,
   "id": "6a891a5e",
   "metadata": {},
   "outputs": [],
   "source": [
    "x = np.arange(16.0).reshape(4, 4)\n",
    "x"
   ]
  },
  {
   "cell_type": "code",
   "execution_count": null,
   "id": "dd0c93e7",
   "metadata": {},
   "outputs": [],
   "source": [
    "np.hsplit(x,4)"
   ]
  },
  {
   "cell_type": "code",
   "execution_count": null,
   "id": "cdc54964",
   "metadata": {},
   "outputs": [],
   "source": [
    "np.vsplit(x,4)"
   ]
  },
  {
   "cell_type": "code",
   "execution_count": null,
   "id": "97e76cda",
   "metadata": {},
   "outputs": [],
   "source": [
    "a"
   ]
  },
  {
   "cell_type": "code",
   "execution_count": null,
   "id": "2d8d726f",
   "metadata": {},
   "outputs": [],
   "source": [
    "a.reshape((3,1),order='F')"
   ]
  },
  {
   "cell_type": "markdown",
   "id": "ebe04472",
   "metadata": {},
   "source": [
    "\n",
    "# 1- Headings \n",
    "\n",
    "How to give headings in markdown files?\n",
    "# Heading 1\n",
    "## Heading 2\n",
    "### Heading 3\n",
    "#### Heading ?\n",
    "###### so on.\n",
    "\n",
    "\n",
    "# 2- Block of Words\n",
    "\n",
    "This is a normal text in Markdown.\n",
    "\n",
    "> This is a block of special text\n",
    ">\n",
    "> This is a second line\n",
    "\n",
    "# 3- Line breaks\n",
    "\n",
    "This is a 40 days long course Data Science with Python AKA Python_ka_chilla_with_baba_aammar.\\\n",
    "This is a second line.\n",
    "\n",
    "# 4- Combine two things\n",
    "\n",
    "Block of words and heading\n",
    "\n",
    "> ## Heading 2\n",
    "\n",
    "# 5- Face of text\n",
    "\n",
    "**Bold**\n",
    "\n",
    "*Italic*\n",
    "\n",
    "***Bold and Italic***\n",
    "\n",
    "Or you can use these symbols\n",
    "_ (Underscore)\n",
    "\n",
    "__BOLD__\n",
    "\n",
    "_Italic_\n",
    "\n",
    "> write in comments about BOld and Italic with underscore\n",
    "\n",
    "# 6- Bullet points/ Lists\n",
    "\n",
    "- Day-1\n",
    "- Day-2\n",
    "- Day-3\n",
    "- Day-4\n",
    "- Day-5\n",
    "    - Day-5a\n",
    "        - Sub list (Anything)\n",
    "    - Day-5b\n",
    "- Day-6\n",
    "- Day-7\n",
    "\n",
    "> __using *or+__\n",
    "\n",
    "* One\n",
    "+ One\n",
    "\n",
    "> Numbering of lists\n",
    "\n",
    "1. Day1\n",
    "2. Day2\n",
    "3. Day3\n",
    "1. Day4\n",
    "1. Day5\n",
    "    1. Day5a\n",
    "    2. Day5b\n",
    "1. Day6\n",
    "1. Day7\n",
    "1. Day8\n",
    "\n",
    "# 7- Line breaks or page breaks\n",
    "\n",
    "This is page 1.\n",
    "\n",
    "---\n",
    "___\n",
    "***\n",
    "\n",
    "This is page 2.\n",
    "\n",
    "\n",
    "# 8- Links and Hyperlinks\n",
    "\n",
    "<https://www.youtube.com/c/codanics/playlists>\n",
    "\n",
    "\n",
    "[The playlist of python ka chilla is here](https://www.youtube.com/watch?v=QvPekMN4F0w&list=PL9XvIvvVL50HVsu-Ao8NBr0UJSO8O6lBI)\n",
    "\n",
    "[Codanics]:https://www.youtube.com/watch?v=QvPekMN4F0w&list=PL9XvIvvVL50HVsu-Ao8NBr0UJSO8O6lBI\n",
    "\n",
    "This whole course is [here][Codanics].\n",
    "\n",
    "\n",
    "# 9- Images and Figures with link\n",
    "\n",
    "To join this course please scan the following QR code and join telegram group:\n",
    "\n",
    "\n",
    "[QR](qr.png)\n",
    "\n",
    "> Task: how to comment out a markdown line? and its shortcut?\n",
    "\n",
    "Online picture:\n",
    "\n",
    "![Codanics](https://www.google.com/search?q=codanics&rlz=1C2GCEA_deDE984DE984&source=lnms&tbm=isch&sa=X&ved=2ahUKEwi4j8SHjaL1AhUzh_0HHeUrDNwQ_AUoAnoECAEQBA&biw=1814&bih=894&dpr=1.25#imgrc=jSNIAJI341a1QM)\n",
    "\n",
    "\n",
    "# 10- Adding code or code block\n",
    "\n",
    "To print a string use `print(\"Codanics\")`\n",
    "\n",
    "`print(\"Hello Baba G\")`\n",
    "\n",
    "```\n",
    "x = 5+6\n",
    "y = 3-2\n",
    "z= x+y\n",
    "print(z) \n",
    "```\n",
    "> This code with show color according to python language syntax\n",
    "\n",
    "```python\n",
    "x = 5+6\n",
    "y = 3-2\n",
    "z= x+y\n",
    "print(z) \n",
    "```\n",
    "> This code with show color according to R language syntax\n",
    "\n",
    "```r\n",
    "x = 5+6\n",
    "y = 3-2\n",
    "z= x+y\n",
    "print(z) \n",
    "```\n",
    "\n",
    "# 11- adding tables\n",
    "\n",
    "| species | petal_length | sepal_length|\n",
    "| :-----: | :--------: | :-------: |\n",
    "| virginica | 18.2 | 19.2 |\n",
    "| setosa | 15.1 | 17.2 |\n",
    "| versicolor | 12.2 | 12.2 |\n",
    "| virginica | 18.2 | 19.2 |\n",
    "| setosa | 15.1 | 17.2 |\n",
    "| versicolor | 12.2 | 12.2 |\n",
    "\n",
    "# 12- content\n",
    "\n",
    "[1- Headings](#1--headings)\\\n",
    "[2- Block of words/Citation](#2--block-of-words)\\\n",
    "[3- Line breaks](#3--line-breaks)\\\n",
    "[4- Combine two things](#4--combine-two-things)\\\n",
    "[5- Text Face](#5--face-of-text)\\\n",
    "[6- Bullet](#6--bullet-points-lists)\\\n",
    "[7- line/page breaks](#7--line-breaks-or-page-breaks)\\\n",
    "[8- Links](#8--links-and-hyperlinks)\\\n",
    "[9- Figure links](#9--images-and-figures-with-link)\\\n",
    "[10- Code/code blocks](#10--adding-code-or-code-block)\\\n",
    "[11- Tables](#11--adding-tables)\n",
    "\n",
    "\n",
    "# 13- Install extensions\n",
    "\n",
    "**Sample Text**\n",
    "\n",
    "**Bold**\n",
    "\n",
    "_Italic_\n",
    "\n",
    "**_Italic and Bold_**\n",
    "\n",
    "[Link](https://marketplace.visualstudio.com/items?itemName=mdickin.markdown-shortcuts)\n",
    "\n",
    "![Image](qr.png)\n",
    "\n",
    "\n",
    "\n",
    "Column A | Column B | Column C\n",
    "---------|----------|---------\n",
    " A1 | B1 | C1\n",
    " A2 | B2 | C2\n",
    " A3 | B3 | C3\n",
    "\n",
    "\n",
    "Column A | Column B | Column C\n",
    "---------|----------|---------\n",
    " A1 | B1 | C1\n",
    " A2 | B2 | C2\n",
    " A3 | B3 | C3"
   ]
  },
  {
   "cell_type": "code",
   "execution_count": null,
   "id": "32e89beb",
   "metadata": {},
   "outputs": [],
   "source": [
    "import numpy as np\n",
    "import pandas as pd\n",
    "import seaborn as sns"
   ]
  },
  {
   "cell_type": "code",
   "execution_count": null,
   "id": "081c66bc",
   "metadata": {},
   "outputs": [],
   "source": [
    "pd.Series([1,2,3,4,5,6,7,8,9,10,11,12,13,14,15,np.arange(10)])"
   ]
  },
  {
   "cell_type": "code",
   "execution_count": null,
   "id": "6ed250af",
   "metadata": {},
   "outputs": [],
   "source": [
    "pd.Series(np.arange(20))"
   ]
  },
  {
   "cell_type": "code",
   "execution_count": null,
   "id": "4d94f3a9",
   "metadata": {},
   "outputs": [],
   "source": [
    "pd.date_range('20220712',periods=10)"
   ]
  },
  {
   "cell_type": "code",
   "execution_count": null,
   "id": "bca92aa0",
   "metadata": {},
   "outputs": [],
   "source": [
    "pd.DataFrame(np.random.randn(10,10),index=np.arange(10),columns=list('abcdefghij'))"
   ]
  },
  {
   "cell_type": "code",
   "execution_count": null,
   "id": "352f89d7",
   "metadata": {},
   "outputs": [],
   "source": [
    "pd.DataFrame(pd.Categorical([True,False]))"
   ]
  },
  {
   "cell_type": "code",
   "execution_count": null,
   "id": "0d98660a",
   "metadata": {},
   "outputs": [],
   "source": [
    "pd.Timestamp('20220722')"
   ]
  },
  {
   "cell_type": "code",
   "execution_count": null,
   "id": "6e6aa0fc",
   "metadata": {},
   "outputs": [],
   "source": [
    "pd.DataFrame(np.array([3]*2))"
   ]
  },
  {
   "cell_type": "code",
   "execution_count": null,
   "id": "45ac3315",
   "metadata": {},
   "outputs": [],
   "source": [
    "df=sns.load_dataset('iris')"
   ]
  },
  {
   "cell_type": "code",
   "execution_count": null,
   "id": "5c9e548f",
   "metadata": {},
   "outputs": [],
   "source": [
    "df.head()"
   ]
  },
  {
   "cell_type": "code",
   "execution_count": null,
   "id": "470a585d",
   "metadata": {},
   "outputs": [],
   "source": [
    "df.tail()"
   ]
  },
  {
   "cell_type": "code",
   "execution_count": null,
   "id": "aed4b98c",
   "metadata": {},
   "outputs": [],
   "source": [
    "df.describe()"
   ]
  },
  {
   "cell_type": "code",
   "execution_count": null,
   "id": "ef8c269b",
   "metadata": {},
   "outputs": [],
   "source": [
    "df.index"
   ]
  },
  {
   "cell_type": "code",
   "execution_count": null,
   "id": "c6edfc60",
   "metadata": {},
   "outputs": [],
   "source": [
    "df.to_numpy()"
   ]
  },
  {
   "cell_type": "code",
   "execution_count": null,
   "id": "3d6dd545",
   "metadata": {},
   "outputs": [],
   "source": [
    "df.T"
   ]
  },
  {
   "cell_type": "code",
   "execution_count": null,
   "id": "be250d39",
   "metadata": {},
   "outputs": [],
   "source": [
    "df.transpose()"
   ]
  },
  {
   "cell_type": "code",
   "execution_count": null,
   "id": "7d7a2aa1",
   "metadata": {},
   "outputs": [],
   "source": [
    "df.sort_index(axis=1,ascending=False)"
   ]
  },
  {
   "cell_type": "code",
   "execution_count": null,
   "id": "ae237ce2",
   "metadata": {},
   "outputs": [],
   "source": [
    "df.sort_values(by='species')"
   ]
  },
  {
   "cell_type": "code",
   "execution_count": null,
   "id": "fdf532a1",
   "metadata": {},
   "outputs": [],
   "source": [
    "df['mean']=df.mean()"
   ]
  },
  {
   "cell_type": "code",
   "execution_count": null,
   "id": "ebcd395b",
   "metadata": {},
   "outputs": [],
   "source": [
    "df"
   ]
  },
  {
   "cell_type": "code",
   "execution_count": null,
   "id": "8719af0f",
   "metadata": {},
   "outputs": [],
   "source": [
    "df[0:]"
   ]
  },
  {
   "cell_type": "code",
   "execution_count": null,
   "id": "e174f065",
   "metadata": {},
   "outputs": [],
   "source": [
    "df.iloc[[0,2]]"
   ]
  },
  {
   "cell_type": "code",
   "execution_count": null,
   "id": "c577ff3a",
   "metadata": {},
   "outputs": [],
   "source": [
    "df = pd.DataFrame([[0, 2, 3], [0, 4, 1], [10, 20, 30]],\n",
    "...                   index=[4, 5, 6], columns=['A', 'B', 'C'])"
   ]
  },
  {
   "cell_type": "code",
   "execution_count": null,
   "id": "e8795865",
   "metadata": {},
   "outputs": [],
   "source": [
    "df.at[4, 'B']"
   ]
  },
  {
   "cell_type": "code",
   "execution_count": null,
   "id": "f1f538b9",
   "metadata": {},
   "outputs": [],
   "source": [
    "df.iloc[:,1:3]"
   ]
  },
  {
   "cell_type": "code",
   "execution_count": null,
   "id": "33fb8e98",
   "metadata": {},
   "outputs": [],
   "source": [
    "df.copy()"
   ]
  },
  {
   "cell_type": "code",
   "execution_count": null,
   "id": "689c7ad2",
   "metadata": {},
   "outputs": [],
   "source": [
    "df['D']=[40,50,60]"
   ]
  },
  {
   "cell_type": "code",
   "execution_count": null,
   "id": "9b606adc",
   "metadata": {},
   "outputs": [],
   "source": [
    "df"
   ]
  },
  {
   "cell_type": "code",
   "execution_count": null,
   "id": "021f01ca",
   "metadata": {},
   "outputs": [],
   "source": [
    "import matplotlib.pyplot as plt"
   ]
  },
  {
   "cell_type": "code",
   "execution_count": null,
   "id": "1f0057a7",
   "metadata": {},
   "outputs": [],
   "source": [
    "titanic=sns.load_dataset('titanic')"
   ]
  },
  {
   "cell_type": "code",
   "execution_count": null,
   "id": "74d094f8",
   "metadata": {},
   "outputs": [],
   "source": [
    "titanic.head()"
   ]
  },
  {
   "cell_type": "code",
   "execution_count": null,
   "id": "ed9ce424",
   "metadata": {},
   "outputs": [],
   "source": [
    "titanic.to_csv()"
   ]
  },
  {
   "cell_type": "code",
   "execution_count": null,
   "id": "71c9f375",
   "metadata": {},
   "outputs": [],
   "source": [
    "titanic.describe()"
   ]
  },
  {
   "cell_type": "code",
   "execution_count": null,
   "id": "4e5e1375",
   "metadata": {},
   "outputs": [],
   "source": [
    "titanic.head(5)"
   ]
  },
  {
   "cell_type": "code",
   "execution_count": null,
   "id": "dd965ed9",
   "metadata": {},
   "outputs": [],
   "source": [
    "titanic=titanic.drop(['deck','alone'],axis=1)\n",
    "titanic"
   ]
  },
  {
   "cell_type": "code",
   "execution_count": null,
   "id": "3f908dda",
   "metadata": {},
   "outputs": [],
   "source": [
    "titanic.mean()"
   ]
  },
  {
   "cell_type": "code",
   "execution_count": null,
   "id": "cd5afbcf",
   "metadata": {},
   "outputs": [],
   "source": [
    "titanic.groupby(['sex','class']).mean()"
   ]
  },
  {
   "cell_type": "code",
   "execution_count": null,
   "id": "45770f20",
   "metadata": {},
   "outputs": [],
   "source": [
    "titanic.groupby(['sex']).mean()"
   ]
  },
  {
   "cell_type": "code",
   "execution_count": null,
   "id": "21e9ea00",
   "metadata": {},
   "outputs": [],
   "source": [
    "# childrens and womens are first\n",
    "titanic[titanic['age']<18].mean()"
   ]
  },
  {
   "cell_type": "code",
   "execution_count": null,
   "id": "e6aedf49",
   "metadata": {},
   "outputs": [],
   "source": [
    "iris=sns.load_dataset('iris')"
   ]
  },
  {
   "cell_type": "code",
   "execution_count": null,
   "id": "366a27b1",
   "metadata": {},
   "outputs": [],
   "source": [
    "iris.to_csv()"
   ]
  },
  {
   "cell_type": "code",
   "execution_count": null,
   "id": "d334b206",
   "metadata": {},
   "outputs": [],
   "source": [
    "iris.info()"
   ]
  },
  {
   "cell_type": "code",
   "execution_count": null,
   "id": "a0ff0bb3",
   "metadata": {},
   "outputs": [],
   "source": [
    "iris.shape"
   ]
  },
  {
   "cell_type": "code",
   "execution_count": null,
   "id": "0e5a626c",
   "metadata": {},
   "outputs": [],
   "source": [
    "iris.tail()"
   ]
  },
  {
   "cell_type": "code",
   "execution_count": null,
   "id": "99baa828",
   "metadata": {},
   "outputs": [],
   "source": [
    "iris.describe()"
   ]
  },
  {
   "cell_type": "code",
   "execution_count": null,
   "id": "bf3d5325",
   "metadata": {},
   "outputs": [],
   "source": [
    "iris.nunique()"
   ]
  },
  {
   "cell_type": "code",
   "execution_count": null,
   "id": "f3a5d0f6",
   "metadata": {},
   "outputs": [],
   "source": [
    "iris.columns"
   ]
  },
  {
   "cell_type": "code",
   "execution_count": null,
   "id": "d5c76a20",
   "metadata": {},
   "outputs": [],
   "source": [
    "iris['species'].unique()"
   ]
  },
  {
   "cell_type": "code",
   "execution_count": null,
   "id": "6b9f4b4b",
   "metadata": {},
   "outputs": [],
   "source": [
    "iris1=iris.values.ravel()"
   ]
  },
  {
   "cell_type": "code",
   "execution_count": null,
   "id": "0e716162",
   "metadata": {},
   "outputs": [],
   "source": [
    "iris1"
   ]
  },
  {
   "cell_type": "code",
   "execution_count": null,
   "id": "cfbb03fb",
   "metadata": {},
   "outputs": [],
   "source": [
    "column_values = df[[\"A\", \"B\"]].values.ravel()\n",
    "unique_values =  pd.unique(column_values)\n",
    "\n",
    "print(unique_values)"
   ]
  },
  {
   "cell_type": "code",
   "execution_count": null,
   "id": "068f84ff",
   "metadata": {},
   "outputs": [],
   "source": [
    "iris_1"
   ]
  },
  {
   "cell_type": "code",
   "execution_count": null,
   "id": "13b0b01d",
   "metadata": {},
   "outputs": [],
   "source": [
    "iris.isnull().sum()"
   ]
  },
  {
   "cell_type": "code",
   "execution_count": null,
   "id": "20885577",
   "metadata": {},
   "outputs": [],
   "source": [
    "iris.to_csv()"
   ]
  },
  {
   "cell_type": "code",
   "execution_count": null,
   "id": "a5f06b21",
   "metadata": {},
   "outputs": [],
   "source": [
    "iris.isnull().sum()"
   ]
  },
  {
   "cell_type": "code",
   "execution_count": null,
   "id": "4eac7d1c",
   "metadata": {},
   "outputs": [],
   "source": [
    "iris.drop(['species'],axis=1)"
   ]
  },
  {
   "cell_type": "code",
   "execution_count": null,
   "id": "afb18d04",
   "metadata": {},
   "outputs": [],
   "source": [
    "iris.dropna(inplace=True)"
   ]
  },
  {
   "cell_type": "code",
   "execution_count": null,
   "id": "97bf0757",
   "metadata": {},
   "outputs": [],
   "source": [
    "iris.shape"
   ]
  },
  {
   "cell_type": "code",
   "execution_count": null,
   "id": "ca5ee873",
   "metadata": {},
   "outputs": [],
   "source": [
    "iris['species'].value_counts()"
   ]
  },
  {
   "cell_type": "code",
   "execution_count": null,
   "id": "2b77b87d",
   "metadata": {},
   "outputs": [],
   "source": [
    "iris.describe()"
   ]
  },
  {
   "cell_type": "code",
   "execution_count": null,
   "id": "6431a3ef",
   "metadata": {},
   "outputs": [],
   "source": [
    "sns.boxplot(x='petal_width',y='species',data=iris)"
   ]
  },
  {
   "cell_type": "code",
   "execution_count": null,
   "id": "b0b3adb8",
   "metadata": {},
   "outputs": [],
   "source": [
    "sns.distplot(iris['sepal_width'])"
   ]
  },
  {
   "cell_type": "code",
   "execution_count": null,
   "id": "6e76efa5",
   "metadata": {},
   "outputs": [],
   "source": [
    "iris['sepal_length'].mean()"
   ]
  },
  {
   "cell_type": "code",
   "execution_count": null,
   "id": "e91e9b89",
   "metadata": {},
   "outputs": [],
   "source": [
    "iris['sepal_length']=iris['sepal_width']<68"
   ]
  },
  {
   "cell_type": "code",
   "execution_count": null,
   "id": "6beaf92a",
   "metadata": {},
   "outputs": [],
   "source": [
    "iris['sepal_length'].mean()"
   ]
  },
  {
   "cell_type": "code",
   "execution_count": null,
   "id": "b333a6dc",
   "metadata": {},
   "outputs": [],
   "source": [
    "iris.mean()"
   ]
  },
  {
   "cell_type": "code",
   "execution_count": null,
   "id": "9443f020",
   "metadata": {},
   "outputs": [],
   "source": [
    "iris.iloc['sepal_length']<68"
   ]
  },
  {
   "cell_type": "code",
   "execution_count": null,
   "id": "2c4026b6",
   "metadata": {},
   "outputs": [],
   "source": [
    "iris['log']=np.log(iris['sepal_length'])"
   ]
  },
  {
   "cell_type": "code",
   "execution_count": null,
   "id": "ff4fdc05",
   "metadata": {},
   "outputs": [],
   "source": [
    "iris"
   ]
  },
  {
   "cell_type": "code",
   "execution_count": null,
   "id": "0a3a7e48",
   "metadata": {},
   "outputs": [],
   "source": [
    "pip install --upgrade scikit-learn"
   ]
  },
  {
   "cell_type": "code",
   "execution_count": null,
   "id": "723df491",
   "metadata": {},
   "outputs": [],
   "source": [
    "pip install scikit-learn"
   ]
  },
  {
   "cell_type": "code",
   "execution_count": null,
   "id": "b4d102d1",
   "metadata": {},
   "outputs": [],
   "source": [
    "from sklearn.model_selection import train_test_split"
   ]
  },
  {
   "cell_type": "code",
   "execution_count": null,
   "id": "729089d3",
   "metadata": {},
   "outputs": [],
   "source": [
    "import numpy as np\n",
    "import pandas as pd\n",
    "import matplotlib.pyplot as plt\n",
    "import seaborn as sns\n",
    "titanic=sns.load_dataset('titanic')\n",
    "titanic"
   ]
  },
  {
   "cell_type": "code",
   "execution_count": null,
   "id": "709f5bbd",
   "metadata": {},
   "outputs": [],
   "source": [
    "(titanic['age']+12).head()"
   ]
  },
  {
   "cell_type": "code",
   "execution_count": null,
   "id": "91681058",
   "metadata": {},
   "outputs": [],
   "source": [
    "titanic.isnull().sum()"
   ]
  },
  {
   "cell_type": "code",
   "execution_count": null,
   "id": "e78b4e41",
   "metadata": {},
   "outputs": [],
   "source": [
    "titanic.shape"
   ]
  },
  {
   "cell_type": "code",
   "execution_count": null,
   "id": "957ac906",
   "metadata": {},
   "outputs": [],
   "source": [
    "titanic.dropna(subset=['deck'],axis=0,inplace=True)"
   ]
  },
  {
   "cell_type": "code",
   "execution_count": null,
   "id": "586f2851",
   "metadata": {},
   "outputs": [],
   "source": [
    "titanic.shape"
   ]
  },
  {
   "cell_type": "code",
   "execution_count": null,
   "id": "77da7457",
   "metadata": {},
   "outputs": [],
   "source": [
    "titanic.dropna().isnull().sum()"
   ]
  },
  {
   "cell_type": "code",
   "execution_count": null,
   "id": "c67d7e03",
   "metadata": {},
   "outputs": [],
   "source": [
    "titanic['age'].mean()"
   ]
  },
  {
   "cell_type": "code",
   "execution_count": null,
   "id": "69799a7b",
   "metadata": {},
   "outputs": [],
   "source": [
    "titanic['age']=titanic['age'].replace(np.nan,np.mean)"
   ]
  },
  {
   "cell_type": "code",
   "execution_count": null,
   "id": "4b29a020",
   "metadata": {},
   "outputs": [],
   "source": [
    "titanic"
   ]
  },
  {
   "cell_type": "code",
   "execution_count": null,
   "id": "fe7205b2",
   "metadata": {},
   "outputs": [],
   "source": [
    "titanic.dtypes"
   ]
  },
  {
   "cell_type": "code",
   "execution_count": null,
   "id": "10f24590",
   "metadata": {},
   "outputs": [],
   "source": [
    "titanic['survived']=titanic['survived'].astype('float64')"
   ]
  },
  {
   "cell_type": "code",
   "execution_count": null,
   "id": "7b66d535",
   "metadata": {},
   "outputs": [],
   "source": [
    "titanic['fare']=titanic['fare']*365"
   ]
  },
  {
   "cell_type": "code",
   "execution_count": null,
   "id": "b36551c2",
   "metadata": {},
   "outputs": [],
   "source": [
    "titanic.rename(columns={'age':'Age'},inplace=True)"
   ]
  },
  {
   "cell_type": "code",
   "execution_count": null,
   "id": "f31aff44",
   "metadata": {},
   "outputs": [],
   "source": [
    "titanic[['Age','fare']]"
   ]
  },
  {
   "cell_type": "code",
   "execution_count": null,
   "id": "777d09b9",
   "metadata": {},
   "outputs": [],
   "source": [
    "titanic['fare']=titanic['fare']/titanic['fare'].max()"
   ]
  },
  {
   "cell_type": "code",
   "execution_count": null,
   "id": "0b0cce84",
   "metadata": {},
   "outputs": [],
   "source": [
    "titanic['pclass']=(titanic['pclass']-titanic['pclass'].min())/(titanic['pclass'].max()-titanic['pclass'].min())"
   ]
  },
  {
   "cell_type": "code",
   "execution_count": null,
   "id": "d0ab42e1",
   "metadata": {},
   "outputs": [],
   "source": [
    "titanic['pclass']=(titanic['pclass']-titanic['pclass'].mean())/titanic['pclass'].std()"
   ]
  },
  {
   "cell_type": "code",
   "execution_count": null,
   "id": "4f802a0e",
   "metadata": {},
   "outputs": [],
   "source": [
    "titanic['pclass']=np.log(titanic['fare'])"
   ]
  },
  {
   "cell_type": "code",
   "execution_count": null,
   "id": "b69994e8",
   "metadata": {},
   "outputs": [],
   "source": [
    "bins=np.linspace(min(titanic['fare']),max(titanic['fare']),1)"
   ]
  },
  {
   "cell_type": "code",
   "execution_count": null,
   "id": "398d710c",
   "metadata": {},
   "outputs": [],
   "source": [
    "# fare_groups=['cycle','bike','car']\n",
    "# titanic['fare']=pd.cut(titanic['fare'],bins,labels=fare_groups,include_lowest=True)\n",
    "# titanic['fare'].head()"
   ]
  },
  {
   "cell_type": "code",
   "execution_count": null,
   "id": "261935c0",
   "metadata": {},
   "outputs": [],
   "source": [
    "pd.get_dummies(titanic['sex'])"
   ]
  },
  {
   "cell_type": "code",
   "execution_count": null,
   "id": "7f417cf9",
   "metadata": {},
   "outputs": [],
   "source": [
    "pip install --upgrade scipy"
   ]
  },
  {
   "cell_type": "code",
   "execution_count": null,
   "id": "29bf1b64",
   "metadata": {},
   "outputs": [],
   "source": [
    "from scipy.stats import norm"
   ]
  },
  {
   "cell_type": "code",
   "execution_count": null,
   "id": "a542cfb3",
   "metadata": {},
   "outputs": [],
   "source": [
    "x_axis=np.arange(-4,4,0.1)\n",
    "plt.plot(x_axis,norm.pdf(x_axis,0,1))"
   ]
  },
  {
   "cell_type": "code",
   "execution_count": null,
   "id": "fc3ba27c",
   "metadata": {},
   "outputs": [],
   "source": [
    "import scipy.stats"
   ]
  },
  {
   "cell_type": "code",
   "execution_count": null,
   "id": "ea3e7fd4",
   "metadata": {},
   "outputs": [],
   "source": [
    "scipy.stats.ttest_ind(titanic['parch'],titanic['fare'])"
   ]
  },
  {
   "cell_type": "code",
   "execution_count": null,
   "id": "6118160a",
   "metadata": {},
   "outputs": [],
   "source": [
    "from scipy.stats import shapiro"
   ]
  },
  {
   "cell_type": "code",
   "execution_count": null,
   "id": "e1756f36",
   "metadata": {},
   "outputs": [],
   "source": [
    "stat,p=shapiro(np.arange(30))"
   ]
  },
  {
   "cell_type": "code",
   "execution_count": null,
   "id": "0b2c70fa",
   "metadata": {},
   "outputs": [],
   "source": [
    "stat,p"
   ]
  },
  {
   "cell_type": "code",
   "execution_count": null,
   "id": "4a6ebcfd",
   "metadata": {},
   "outputs": [],
   "source": [
    "if p>0.05:\n",
    "    print('Probably Gaussian')\n",
    "else:\n",
    "    print('Not Gaussian')"
   ]
  },
  {
   "cell_type": "code",
   "execution_count": null,
   "id": "f9ba740e",
   "metadata": {},
   "outputs": [],
   "source": [
    "shapiro([1,2,3,4,5,6,10,-111,-22,-3.66,-4.55])"
   ]
  },
  {
   "cell_type": "code",
   "execution_count": null,
   "id": "987d520f",
   "metadata": {},
   "outputs": [],
   "source": [
    "sns.boxplot(titanic['fare'])"
   ]
  },
  {
   "cell_type": "code",
   "execution_count": null,
   "id": "1aaeae2e",
   "metadata": {},
   "outputs": [],
   "source": [
    "titanic['fare'].hist()"
   ]
  },
  {
   "cell_type": "code",
   "execution_count": null,
   "id": "bc7a51b7",
   "metadata": {},
   "outputs": [],
   "source": [
    "from scipy.stats import spearmanr\n",
    "spearmanr(np.arange(9),np.arange(9))"
   ]
  },
  {
   "cell_type": "code",
   "execution_count": null,
   "id": "17b3128f",
   "metadata": {},
   "outputs": [],
   "source": [
    "spearmanr([1,2,3,4,5,6,-111,-222],[-1,-2,-33,-44,-55,-66,-77,-89999])"
   ]
  },
  {
   "cell_type": "code",
   "execution_count": null,
   "id": "ce5e952c",
   "metadata": {},
   "outputs": [],
   "source": [
    "import scipy.stats"
   ]
  },
  {
   "cell_type": "code",
   "execution_count": null,
   "id": "a89dcf8f",
   "metadata": {},
   "outputs": [],
   "source": [
    "scipy.stats.pearsonr([11,2,3,4,5,6],[-0.22,0.33,0.444,-1123,-44,-9999.555])"
   ]
  },
  {
   "cell_type": "code",
   "execution_count": null,
   "id": "cd7b5dfa",
   "metadata": {},
   "outputs": [],
   "source": [
    "from scipy.stats import chi2_contingency\n",
    "chi2_contingency([1,2,3],[-44,-55,-99999.22])"
   ]
  },
  {
   "cell_type": "code",
   "execution_count": null,
   "id": "7ced2d23",
   "metadata": {},
   "outputs": [],
   "source": [
    "from scipy.stats import ttest_ind\n",
    "ttest_ind([1,2,3,5,5,6,6,6],[-22,-33,-44,-5.55,-999,-111.22,-33.44,-29.88])"
   ]
  },
  {
   "cell_type": "code",
   "execution_count": null,
   "id": "8659fbd7",
   "metadata": {},
   "outputs": [],
   "source": [
    "from scipy.stats import f_oneway\n",
    "f_oneway([1,2,3],[-99999,-8888,-344.222])"
   ]
  },
  {
   "cell_type": "code",
   "execution_count": null,
   "id": "e55c482d",
   "metadata": {},
   "outputs": [],
   "source": [
    "from scipy.stats import  ttest_rel\n",
    "ttest_rel([1,2,3,4,5],[-1,-999,-99.55,-99.44,-99.21])"
   ]
  },
  {
   "cell_type": "code",
   "execution_count": null,
   "id": "2be47e2c",
   "metadata": {},
   "outputs": [],
   "source": [
    "pip install pandas_profiling"
   ]
  },
  {
   "cell_type": "code",
   "execution_count": null,
   "id": "49f8c544",
   "metadata": {},
   "outputs": [],
   "source": [
    "import pandas_profiling as pp"
   ]
  },
  {
   "cell_type": "code",
   "execution_count": null,
   "id": "6ec705c3",
   "metadata": {},
   "outputs": [],
   "source": [
    "import numpy as np\n",
    "import pandas as pd\n",
    "from pandas_profiling import ProfileReport\n",
    "\n",
    "df = pd.DataFrame(np.random.rand(100, 5), columns=[\"a\", \"b\", \"c\", \"d\", \"e\"])\n",
    "# To generate the report, run:\n",
    "\n",
    "profile = ProfileReport(df, title=\"Pandas Profiling Report\")"
   ]
  },
  {
   "cell_type": "code",
   "execution_count": null,
   "id": "be5919f4",
   "metadata": {},
   "outputs": [],
   "source": [
    "profile"
   ]
  },
  {
   "cell_type": "code",
   "execution_count": null,
   "id": "669af0d5",
   "metadata": {},
   "outputs": [],
   "source": [
    "tips=sns.load_dataset('tips')\n",
    "sns.barplot(x='day', y='total_bill', data=tips)"
   ]
  },
  {
   "cell_type": "code",
   "execution_count": null,
   "id": "fab9948f",
   "metadata": {},
   "outputs": [],
   "source": [
    "#  How to use template datasets\n",
    "\n",
    "import seaborn as sns\n",
    "import pandas as pd\n",
    "\n",
    "df = sns.load_dataset('tips')\n",
    "df.head(10)\n",
    "\n",
    "df.to_csv('tips.csv')"
   ]
  },
  {
   "cell_type": "code",
   "execution_count": null,
   "id": "992154d6",
   "metadata": {},
   "outputs": [],
   "source": [
    "import pandas as pd\n",
    "import numpy as np\n",
    "import matplotlib.pyplot as plt\n",
    "import seaborn as sns\n",
    "\n",
    "tips = sns.load_dataset('tips')\n",
    "sns.lineplot(x='day', y='total_bill', data=tips)"
   ]
  },
  {
   "cell_type": "code",
   "execution_count": null,
   "id": "aca1961b",
   "metadata": {},
   "outputs": [],
   "source": [
    "import pandas as pd\n",
    "import numpy as np\n",
    "import matplotlib.pyplot as plt\n",
    "import seaborn as sns\n",
    "\n",
    "tips = sns.load_dataset('tips')\n",
    "sns.lineplot(x='day', y='total_bill', data=tips)"
   ]
  },
  {
   "cell_type": "code",
   "execution_count": null,
   "id": "b58feba6",
   "metadata": {},
   "outputs": [],
   "source": [
    "pip install --upgrade scikit-learn"
   ]
  },
  {
   "cell_type": "code",
   "execution_count": null,
   "id": "be350cd9",
   "metadata": {},
   "outputs": [],
   "source": [
    "df=pd.read_csv('Salary_Data.csv')\n",
    "df.head()"
   ]
  },
  {
   "cell_type": "code",
   "execution_count": null,
   "id": "acf63f59",
   "metadata": {},
   "outputs": [],
   "source": [
    "from sklearn.model_selection import train_test_split"
   ]
  },
  {
   "cell_type": "code",
   "execution_count": null,
   "id": "19d606ae",
   "metadata": {},
   "outputs": [],
   "source": [
    "x=df[['YearsExperience']]\n",
    "y=df['Salary']"
   ]
  },
  {
   "cell_type": "code",
   "execution_count": null,
   "id": "08bc5425",
   "metadata": {},
   "outputs": [],
   "source": [
    "x.head()"
   ]
  },
  {
   "cell_type": "code",
   "execution_count": null,
   "id": "8a44ff57",
   "metadata": {},
   "outputs": [],
   "source": [
    "y.head()"
   ]
  },
  {
   "cell_type": "code",
   "execution_count": null,
   "id": "4e757bca",
   "metadata": {},
   "outputs": [],
   "source": [
    "from sklearn.linear_model import LinearRegression"
   ]
  },
  {
   "cell_type": "code",
   "execution_count": null,
   "id": "31db94ca",
   "metadata": {},
   "outputs": [],
   "source": [
    "x_train,x_test,y_train,y_test=train_test_split(x,y,test_size=0.2,random_state=0)"
   ]
  },
  {
   "cell_type": "code",
   "execution_count": null,
   "id": "e670f7c2",
   "metadata": {},
   "outputs": [],
   "source": [
    "model=LinearRegression()"
   ]
  },
  {
   "cell_type": "code",
   "execution_count": null,
   "id": "dc4e7489",
   "metadata": {},
   "outputs": [],
   "source": [
    "model.fit(x_train,y_train)"
   ]
  },
  {
   "cell_type": "code",
   "execution_count": null,
   "id": "c78e7a0f",
   "metadata": {},
   "outputs": [],
   "source": [
    "print(plt.scatter(x_train,y_train))\n",
    "\n",
    "display(plt.scatter(x_test,y_test))"
   ]
  },
  {
   "cell_type": "code",
   "execution_count": null,
   "id": "bc2f499f",
   "metadata": {},
   "outputs": [],
   "source": [
    "print(plt.scatter(x_train,y_train))\n",
    "plt.plot(x_train,model.predict(x_train),color='green')\n",
    "plt.xlabel('Years')\n",
    "plt.ylabel('Salary')\n",
    "plt.title('training')"
   ]
  },
  {
   "cell_type": "code",
   "execution_count": null,
   "id": "24171292",
   "metadata": {},
   "outputs": [],
   "source": [
    "model.score(x_test,y_test)"
   ]
  },
  {
   "cell_type": "code",
   "execution_count": null,
   "id": "45ca6a5b",
   "metadata": {},
   "outputs": [],
   "source": [
    "model.score(x_train,y_train)"
   ]
  },
  {
   "cell_type": "code",
   "execution_count": null,
   "id": "dd68a75c",
   "metadata": {},
   "outputs": [],
   "source": [
    "model.predict([[5]])"
   ]
  },
  {
   "cell_type": "code",
   "execution_count": null,
   "id": "0894f53a",
   "metadata": {},
   "outputs": [],
   "source": [
    "model.predict(x_test)"
   ]
  },
  {
   "cell_type": "code",
   "execution_count": null,
   "id": "dc9c0c24",
   "metadata": {},
   "outputs": [],
   "source": [
    "x=([10],[20],[30])\n",
    "model.predict(x)"
   ]
  },
  {
   "cell_type": "code",
   "execution_count": null,
   "id": "d9f7b150",
   "metadata": {},
   "outputs": [],
   "source": [
    "df"
   ]
  },
  {
   "cell_type": "code",
   "execution_count": null,
   "id": "d29099ea",
   "metadata": {},
   "outputs": [],
   "source": [
    "df1=pd.read_csv('kc_house_data.csv')\n",
    "df1.head()"
   ]
  },
  {
   "cell_type": "code",
   "execution_count": null,
   "id": "180ae691",
   "metadata": {},
   "outputs": [],
   "source": [
    "x=df1[['price','sqft_living','bedrooms']]"
   ]
  },
  {
   "cell_type": "code",
   "execution_count": null,
   "id": "bab8ee53",
   "metadata": {},
   "outputs": [],
   "source": [
    "y=df1['id']"
   ]
  },
  {
   "cell_type": "code",
   "execution_count": null,
   "id": "0ee093c3",
   "metadata": {},
   "outputs": [],
   "source": [
    "model=LinearRegression().fit(x,y)"
   ]
  },
  {
   "cell_type": "code",
   "execution_count": null,
   "id": "7aaae090",
   "metadata": {},
   "outputs": [],
   "source": [
    "model.coef_"
   ]
  },
  {
   "cell_type": "code",
   "execution_count": null,
   "id": "d4330554",
   "metadata": {},
   "outputs": [],
   "source": [
    "model.intercept_"
   ]
  },
  {
   "cell_type": "code",
   "execution_count": null,
   "id": "4bbcf628",
   "metadata": {},
   "outputs": [],
   "source": [
    "model.predict([[221900.0,1180,3]])"
   ]
  },
  {
   "cell_type": "code",
   "execution_count": null,
   "id": "e96146d9",
   "metadata": {},
   "outputs": [],
   "source": [
    "reg=LinearRegression().fit(x_test,y_test)"
   ]
  },
  {
   "cell_type": "code",
   "execution_count": null,
   "id": "e07b7e94",
   "metadata": {},
   "outputs": [],
   "source": [
    "reg.score(x_test,y_test)"
   ]
  },
  {
   "cell_type": "code",
   "execution_count": null,
   "id": "958ffee4",
   "metadata": {},
   "outputs": [],
   "source": [
    "reg.score(x_train,y_train)"
   ]
  },
  {
   "cell_type": "code",
   "execution_count": null,
   "id": "6ccc29d1",
   "metadata": {},
   "outputs": [],
   "source": [
    "# abs(predicted_value - actual_value) * 100 /  actual_value\n",
    "abs(x_test - x_test) * 100 /  x_train"
   ]
  },
  {
   "cell_type": "code",
   "execution_count": null,
   "id": "17e57c12",
   "metadata": {},
   "outputs": [],
   "source": [
    "model.score(x,y)"
   ]
  },
  {
   "cell_type": "code",
   "execution_count": null,
   "id": "85dba691",
   "metadata": {},
   "outputs": [],
   "source": [
    "df=pd.read_csv('Salary_Data.csv')\n",
    "df"
   ]
  },
  {
   "cell_type": "code",
   "execution_count": null,
   "id": "03ed9fca",
   "metadata": {},
   "outputs": [],
   "source": [
    "df['gender']=['male','female','female'',female','male','male','male','male','male','male','male','male',\n",
    "             'male','male','male','male','male','male','male','male','male','male','male','male','male',\n",
    "             'male','male','male','male','male','male',]"
   ]
  },
  {
   "cell_type": "code",
   "execution_count": null,
   "id": "6b87cdcc",
   "metadata": {},
   "outputs": [],
   "source": [
    "df"
   ]
  },
  {
   "cell_type": "code",
   "execution_count": null,
   "id": "514e6bad",
   "metadata": {},
   "outputs": [],
   "source": [
    "df['gender']=df['gender'].replace('male',1)\n",
    "df['gender']=df['gender'].replace('female','female',0)"
   ]
  },
  {
   "cell_type": "code",
   "execution_count": null,
   "id": "c78d9ad6",
   "metadata": {},
   "outputs": [],
   "source": [
    "df['weight']=[30,40,50,60,60,60,60,60,60,60,60,60,60,60,60\n",
    "             ,60,60,60,60,60,60,60,60,60,60,60,60,60,60,60]"
   ]
  },
  {
   "cell_type": "code",
   "execution_count": null,
   "id": "86b1bb78",
   "metadata": {},
   "outputs": [],
   "source": [
    "x=df[['weight','gender']]"
   ]
  },
  {
   "cell_type": "code",
   "execution_count": null,
   "id": "ca5d1e0e",
   "metadata": {},
   "outputs": [],
   "source": [
    "df['likeness']=['biryani','ghost','biryani','biryani','biryani','biryani','biryani','biryani','biryani','biryani'\n",
    "               ,'biryani','biryani','biryani','biryani','biryani','biryani','biryani','biryani'\n",
    "               ,'biryani','biryani','biryani','biryani','biryani','biryani','biryani','biryani','biryani','biryani'\n",
    "               ,'biryani','biryani']"
   ]
  },
  {
   "cell_type": "code",
   "execution_count": null,
   "id": "fd6aab15",
   "metadata": {},
   "outputs": [],
   "source": [
    "df"
   ]
  },
  {
   "cell_type": "code",
   "execution_count": null,
   "id": "429553c2",
   "metadata": {},
   "outputs": [],
   "source": [
    "y=df['likeness']"
   ]
  },
  {
   "cell_type": "code",
   "execution_count": null,
   "id": "db1600a2",
   "metadata": {},
   "outputs": [],
   "source": [
    "x.head()"
   ]
  },
  {
   "cell_type": "code",
   "execution_count": null,
   "id": "25346346",
   "metadata": {},
   "outputs": [],
   "source": [
    "y.head()"
   ]
  },
  {
   "cell_type": "code",
   "execution_count": null,
   "id": "e0d25987",
   "metadata": {},
   "outputs": [],
   "source": [
    "from sklearn.tree import DecisionTreeClassifier"
   ]
  },
  {
   "cell_type": "code",
   "execution_count": null,
   "id": "ed921671",
   "metadata": {},
   "outputs": [],
   "source": [
    "model=DecisionTreeClassifier()"
   ]
  },
  {
   "cell_type": "code",
   "execution_count": null,
   "id": "7f5bfe73",
   "metadata": {},
   "outputs": [],
   "source": [
    "model.fit(x,y)"
   ]
  },
  {
   "cell_type": "code",
   "execution_count": null,
   "id": "703dfaaf",
   "metadata": {},
   "outputs": [],
   "source": [
    "y"
   ]
  },
  {
   "cell_type": "code",
   "execution_count": null,
   "id": "71424819",
   "metadata": {},
   "outputs": [],
   "source": [
    "x"
   ]
  },
  {
   "cell_type": "code",
   "execution_count": null,
   "id": "e205d842",
   "metadata": {},
   "outputs": [],
   "source": [
    "x.iloc[2]"
   ]
  },
  {
   "cell_type": "code",
   "execution_count": null,
   "id": "77d2e6dd",
   "metadata": {},
   "outputs": [],
   "source": [
    "x.drop([2], axis=0, inplace=True)"
   ]
  },
  {
   "cell_type": "code",
   "execution_count": null,
   "id": "7525c8b0",
   "metadata": {},
   "outputs": [],
   "source": [
    "x"
   ]
  },
  {
   "cell_type": "code",
   "execution_count": null,
   "id": "c617aaac",
   "metadata": {},
   "outputs": [],
   "source": [
    "x[2]=0"
   ]
  },
  {
   "cell_type": "code",
   "execution_count": null,
   "id": "90e484c8",
   "metadata": {},
   "outputs": [],
   "source": [
    "x"
   ]
  },
  {
   "cell_type": "code",
   "execution_count": null,
   "id": "45e5baf0",
   "metadata": {},
   "outputs": [],
   "source": [
    "x['gender']=2"
   ]
  },
  {
   "cell_type": "code",
   "execution_count": null,
   "id": "d04434a9",
   "metadata": {},
   "outputs": [],
   "source": [
    "x"
   ]
  },
  {
   "cell_type": "code",
   "execution_count": null,
   "id": "09ae37b5",
   "metadata": {},
   "outputs": [],
   "source": [
    "model.predict([[60,2]])"
   ]
  },
  {
   "cell_type": "code",
   "execution_count": null,
   "id": "68963b90",
   "metadata": {},
   "outputs": [],
   "source": [
    "df1"
   ]
  },
  {
   "cell_type": "code",
   "execution_count": null,
   "id": "b4d7e881",
   "metadata": {},
   "outputs": [],
   "source": [
    "x=df1[['bedrooms','bathrooms']]"
   ]
  },
  {
   "cell_type": "code",
   "execution_count": null,
   "id": "55f8c903",
   "metadata": {},
   "outputs": [],
   "source": [
    "y=df1['id']"
   ]
  },
  {
   "cell_type": "code",
   "execution_count": null,
   "id": "81f061e4",
   "metadata": {},
   "outputs": [],
   "source": [
    "from sklearn.tree import DecisionTreeClassifier"
   ]
  },
  {
   "cell_type": "code",
   "execution_count": null,
   "id": "6fe8295c",
   "metadata": {},
   "outputs": [],
   "source": [
    "model=DecisionTreeClassifier().fit(x,y)"
   ]
  },
  {
   "cell_type": "code",
   "execution_count": null,
   "id": "fdfc841f",
   "metadata": {},
   "outputs": [],
   "source": [
    "model.predict([[3,2.25]])"
   ]
  },
  {
   "cell_type": "code",
   "execution_count": null,
   "id": "c9ee5981",
   "metadata": {},
   "outputs": [],
   "source": [
    "from sklearn.model_selection import train_test_split"
   ]
  },
  {
   "cell_type": "code",
   "execution_count": null,
   "id": "81b57ea7",
   "metadata": {},
   "outputs": [],
   "source": [
    "from sklearn.metrics import accuracy_score"
   ]
  },
  {
   "cell_type": "code",
   "execution_count": null,
   "id": "193453e7",
   "metadata": {},
   "outputs": [],
   "source": [
    "x_train,x_test,y_train,y_test=train_test_split(x,y,test_size=0.2,random_state=0)"
   ]
  },
  {
   "cell_type": "code",
   "execution_count": null,
   "id": "ada15b8a",
   "metadata": {},
   "outputs": [],
   "source": [
    "model=DecisionTreeClassifier().fit(x_train,y_train)"
   ]
  },
  {
   "cell_type": "code",
   "execution_count": null,
   "id": "1b305c6e",
   "metadata": {},
   "outputs": [],
   "source": [
    "prdecited_values=model.predict(x_test)\n",
    "prdecited_values"
   ]
  },
  {
   "cell_type": "code",
   "execution_count": null,
   "id": "afc73e7f",
   "metadata": {},
   "outputs": [],
   "source": [
    "accuracy_score(y_test,prdecited_values)"
   ]
  },
  {
   "cell_type": "code",
   "execution_count": null,
   "id": "a95895df",
   "metadata": {},
   "outputs": [],
   "source": [
    "import pandas as pd\n",
    "from sklearn.tree import DecisionTreeClassifier\n",
    "import joblib"
   ]
  },
  {
   "cell_type": "code",
   "execution_count": null,
   "id": "a6de5e3e",
   "metadata": {},
   "outputs": [],
   "source": [
    "pip install --upgrade joblib"
   ]
  },
  {
   "cell_type": "code",
   "execution_count": null,
   "id": "8ff0ab33",
   "metadata": {},
   "outputs": [],
   "source": [
    "model=DecisionTreeClassifier().fit(x,y)"
   ]
  },
  {
   "cell_type": "code",
   "execution_count": null,
   "id": "b67a6592",
   "metadata": {},
   "outputs": [],
   "source": [
    "joblib.dump(model,'House Prediction')"
   ]
  },
  {
   "cell_type": "code",
   "execution_count": null,
   "id": "9cc6ad6c",
   "metadata": {},
   "outputs": [],
   "source": [
    "model=DecisionTreeClassifier().fit(x,y)"
   ]
  },
  {
   "cell_type": "code",
   "execution_count": null,
   "id": "1d833b49",
   "metadata": {},
   "outputs": [],
   "source": [
    "from sklearn import tree"
   ]
  },
  {
   "cell_type": "code",
   "execution_count": null,
   "id": "b5126d70",
   "metadata": {},
   "outputs": [],
   "source": [
    "tree.export_graphviz(model,out_file='House Prediction.dot',feature_names=['bedrooms','bathrooms']\n",
    "                    ,class_names=sorted(y.unique()),\n",
    "                    label='all',rounded=True,\n",
    "                    filled=True)"
   ]
  },
  {
   "cell_type": "code",
   "execution_count": null,
   "id": "976cd307",
   "metadata": {},
   "outputs": [],
   "source": [
    "from sklearn.datasets import load_iris\n",
    "from sklearn import tree\n",
    "clf = tree.DecisionTreeClassifier()\n",
    "iris = load_iris()\n",
    "clf = clf.fit(iris.data, iris.target)\n",
    "tree.export_graphviz(clf)"
   ]
  },
  {
   "cell_type": "code",
   "execution_count": null,
   "id": "1ae5f5b2",
   "metadata": {},
   "outputs": [],
   "source": [
    "import matplotlib.pyplot as plt \n",
    "import pandas as pd\n",
    " \n",
    "\n",
    "# Load the dataset. It consists of 5 features, UserID, Gender, Age, EstimatedSalary and Purchased.\n",
    "\n",
    "data = pd.read_csv('/Users/ML/DecisionTree/Social.csv')\n",
    "data.head()\n",
    " \n",
    "\n",
    "# Figure\n",
    "# Dataset\n",
    " \n",
    "# We will take only Age and EstimatedSalary as our independent variables X because of other features like Gender and User ID are irrelevant and have no effect on the purchasing capacity of a person. Purchased is our dependent variable y.\n",
    "\n",
    "feature_cols = ['Age','EstimatedSalary' ]X = data.iloc[:,[2,3]].values\n",
    "y = data.iloc[:,4].values\n",
    "# The next step is to split the dataset into training and test.\n",
    "\n",
    "from sklearn.model_selection import train_test_split\n",
    "X_train, X_test, y_train, y_test =  train_test_split(X,y,test_size = 0.25, random_state= 0)\n",
    " \n",
    "# Perform feature scaling\n",
    "\n",
    "#feature scaling\n",
    "from sklearn.preprocessing import StandardScaler\n",
    "sc_X = StandardScaler()\n",
    "X_train = sc_X.fit_transform(X_train)\n",
    "X_test = sc_X.transform(X_test)\n",
    " \n",
    "\n",
    "# Fit the model in the Decision Tree classifier.\n",
    "\n",
    "from sklearn.tree import DecisionTreeClassifier\n",
    "classifier = DecisionTreeClassifier()\n",
    "classifier = classifier.fit(X_train,y_train)\n",
    " \n",
    "# Make predictions and check accuracy.\n",
    "\n",
    "#prediction\n",
    "y_pred = classifier.predict(X_test)#Accuracy\n",
    "from sklearn import metricsprint('Accuracy Score:', metrics.accuracy_score(y_test,y_pred))\n",
    " \n",
    "\n",
    "# The decision tree classifier gave an accuracy of 91%.\n",
    "\n",
    "# Confusion Matrix\n",
    "\n",
    "from sklearn.metrics import confusion_matrix\n",
    "cm = confusion_matrix(y_test, y_pred)Output:\n",
    "array([[64,  4],\n",
    "       [ 2, 30]])\n",
    " \n",
    "\n",
    "# It means 6 observations have been classified as false.\n",
    "\n",
    "# Let us first visualize the model prediction results.\n",
    "\n",
    "from matplotlib.colors import ListedColormap\n",
    "X_set, y_set = X_test, y_test\n",
    "X1, X2 = np.meshgrid(np.arange(start = X_set[:,0].min()-1, stop= X_set[:,0].max()+1, step = 0.01),np.arange(start = X_set[:,1].min()-1, stop= X_set[:,1].max()+1, step = 0.01))\n",
    "plt.contourf(X1,X2, classifier.predict(np.array([X1.ravel(), X2.ravel()]).T).reshape(X1.shape), alpha=0.75, cmap = ListedColormap((\"red\",\"green\")))plt.xlim(X1.min(), X1.max())\n",
    "plt.ylim(X2.min(), X2.max())for i,j in enumerate(np.unique(y_set)):\n",
    "plt.scatter(X_set[y_set==j,0],X_set[y_set==j,1], c = ListedColormap((\"red\",\"green\"))(i),label = j)\n",
    "plt.title(\"Decision Tree(Test set)\")\n",
    "plt.xlabel(\"Age\")\n",
    "plt.ylabel(\"Estimated Salary\")\n",
    "plt.legend()\n",
    "plt.show()\n",
    " \n",
    "# Let us also visualize the tree:\n",
    "\n",
    "# You can use Scikit-learn’s export_graphviz function to display the tree within a Jupyter notebook. For plotting trees, you also need to install Graphviz and pydotplus.\n",
    "\n",
    "export_graphviz function converts decision tree classifier into dot file and pydotplus convert this dot file to png or displayable form on Jupyter.\n",
    "\n",
    "from sklearn.tree import export_graphviz\n",
    "from sklearn.externals.six import StringIO  \n",
    "from IPython.display import Image  \n",
    "import pydotplusdot_data = StringIO()\n",
    "export_graphviz(classifier, out_file=dot_data,  \n",
    "                filled=True, rounded=True,\n",
    "                special_characters=True,feature_names = feature_cols,class_names=['0','1'])\n",
    "graph = pydotplus.graph_from_dot_data(dot_data.getvalue())  \n",
    "Image(graph.create_png())\n",
    " \n",
    "\n",
    "# Figure\n",
    "# Decision Tree.\n",
    " \n",
    "\n",
    " \n",
    "\n",
    "# In the decision tree chart, each internal node has a decision rule that splits the data. Gini referred to as the Gini ratio, which measures the impurity of the node. You can say a node is pure when all of its records belong to the same class, such nodes known as the leaf node.\n",
    "\n",
    "# Here, the resultant tree is unpruned. This unpruned tree is unexplainable and not easy to understand. In the next section, let’s optimize it by pruning.\n",
    "# Optimizing the Decision Tree Classifier\n",
    "\n",
    "# criterion: optional (default=”gini”) or Choose attribute selection measure: This parameter allows us to use the different-different attribute selection measure. Supported criteria are “gini” for the Gini index and “entropy” for the information gain.\n",
    "\n",
    "# splitter: string, optional (default=”best”) or Split Strategy: This parameter allows us to choose the split strategy. Supported strategies are “best” to choose the best split and “random” to choose the best random split.\n",
    "\n",
    "# max_depth: int or None, optional (default=None) or Maximum Depth of a Tree: The maximum depth of the tree. If None, then nodes are expanded until all the leaves contain less than min_samples_split samples. The higher value of maximum depth causes overfitting, and a lower value causes underfitting (Source).\n",
    "\n",
    "# In Scikit-learn, optimization of decision tree classifier performed by only pre-pruning. The maximum depth of the tree can be used as a control variable for pre-pruning.\n",
    "\n",
    "# Create Decision Tree classifer object\n",
    "classifier = DecisionTreeClassifier(criterion=\"entropy\", max_depth=3)# Train Decision Tree Classifer\n",
    "classifier = classifier.fit(X_train,y_train)#Predict the response for test dataset\n",
    "y_pred = classifier.predict(X_test)# Model Accuracy, how often is the classifier correct?\n",
    "print(\"Accuracy:\",metrics.accuracy_score(y_test, y_pred))\n",
    " \n",
    "\n",
    "# Well, the classification rate increased to 94%, which is better accuracy than the previous model.\n",
    "\n",
    "# Now let us again visualize the pruned Decision tree after optimization.\n",
    "\n",
    "dot_data = StringIO()\n",
    "export_graphviz(classifier, out_file=dot_data,  \n",
    "                filled=True, rounded=True,\n",
    "                special_characters=True, feature_names = feature_cols,class_names=['0','1'])\n",
    "graph = pydotplus.graph_from_dot_data(dot_data.getvalue())  \n",
    "Image(graph.create_png())"
   ]
  },
  {
   "cell_type": "code",
   "execution_count": null,
   "id": "b000fe78",
   "metadata": {},
   "outputs": [],
   "source": [
    "# pip install pydotplus\n",
    "# # conda install python-graphviz"
   ]
  },
  {
   "cell_type": "code",
   "execution_count": null,
   "id": "a946c2d2",
   "metadata": {},
   "outputs": [],
   "source": [
    "from sklearn.tree import plot_tree\n",
    "import matplotlib.pyplot as plt\n",
    "plt.figure()\n",
    "model=DecisionTreeClassifier().fit(x,y)\n",
    "plot_tree(model,filled=True)\n",
    "plt.title('Plot')"
   ]
  },
  {
   "cell_type": "code",
   "execution_count": null,
   "id": "9072006a",
   "metadata": {},
   "outputs": [],
   "source": [
    "import pandas as pd\n",
    "import numpy as np\n",
    "import seaborn as sns\n",
    "df=sns.load_dataset('iris')\n",
    "df.head()"
   ]
  },
  {
   "cell_type": "code",
   "execution_count": null,
   "id": "5b0cea2d",
   "metadata": {},
   "outputs": [],
   "source": [
    "from sklearn.tree import DecisionTreeClassifier"
   ]
  },
  {
   "cell_type": "code",
   "execution_count": null,
   "id": "c69ab85d",
   "metadata": {},
   "outputs": [],
   "source": [
    "x=df.iloc[:,:-1]\n",
    "y=df.iloc[:,-1:]"
   ]
  },
  {
   "cell_type": "code",
   "execution_count": null,
   "id": "8ddb35b4",
   "metadata": {},
   "outputs": [],
   "source": [
    "x.head()"
   ]
  },
  {
   "cell_type": "code",
   "execution_count": null,
   "id": "171f92b6",
   "metadata": {},
   "outputs": [],
   "source": [
    "y.head()"
   ]
  },
  {
   "cell_type": "code",
   "execution_count": null,
   "id": "3acb441c",
   "metadata": {},
   "outputs": [],
   "source": [
    "from sklearn.tree import DecisionTreeClassifier\n",
    "from sklearn.tree import plot_tree\n",
    "model=DecisionTreeClassifier().fit(x,y)\n",
    "plot_tree(model,filled=True)\n",
    "plt.title('Decision Tree on Iris data')\n",
    "plt.show()"
   ]
  },
  {
   "cell_type": "code",
   "execution_count": null,
   "id": "b3d085e1",
   "metadata": {},
   "outputs": [],
   "source": [
    "from sklearn.neighbors import KNeighborsClassifier"
   ]
  },
  {
   "cell_type": "code",
   "execution_count": null,
   "id": "6285ad2d",
   "metadata": {},
   "outputs": [],
   "source": [
    "model=KNeighborsClassifier(n_neighbors=5)"
   ]
  },
  {
   "cell_type": "code",
   "execution_count": null,
   "id": "97da2366",
   "metadata": {},
   "outputs": [],
   "source": [
    "model.fit(x,y)"
   ]
  },
  {
   "cell_type": "code",
   "execution_count": null,
   "id": "7f12ba42",
   "metadata": {},
   "outputs": [],
   "source": [
    "predicted=model.predict([['species']])"
   ]
  },
  {
   "cell_type": "code",
   "execution_count": null,
   "id": "bdcaec91",
   "metadata": {},
   "outputs": [],
   "source": [
    "df=pd.read_csv('Salary_Data.csv')\n",
    "df"
   ]
  },
  {
   "cell_type": "code",
   "execution_count": null,
   "id": "8a2c43f4",
   "metadata": {},
   "outputs": [],
   "source": [
    "df['Gender']=[1,0,1,0,1,1,0,1,0,1,0,1,0,1,0,1,0,1,0,1,0,1,0,1,0,1,0,1,0,1]"
   ]
  },
  {
   "cell_type": "code",
   "execution_count": null,
   "id": "0ffe33c9",
   "metadata": {},
   "outputs": [],
   "source": [
    "df"
   ]
  },
  {
   "cell_type": "code",
   "execution_count": null,
   "id": "acbad4e7",
   "metadata": {},
   "outputs": [],
   "source": [
    "df['Weight']=[70,80,90,50,60,65,65,65,65,65,65,65,65,65,65,65,65,65,65,65,65,65,65,65,65,65,\n",
    "             65,65,65,65]"
   ]
  },
  {
   "cell_type": "code",
   "execution_count": null,
   "id": "8386a3bf",
   "metadata": {},
   "outputs": [],
   "source": [
    "df['Likeness']=['B','G','Karachi','Karachi','Karachi','Karachi','Karachi','Karachi','Karachi','Karachi',\n",
    "               'Karachi','Karachi','Karachi','Karachi','Karachi','Karachi',\n",
    "               'Karachi','Karachi','Karachi','Karachi','Karachi','Karachi','Karachi','Karachi','Karachi','B','B'\n",
    "               ,'B','B','B']"
   ]
  },
  {
   "cell_type": "code",
   "execution_count": null,
   "id": "830db45c",
   "metadata": {},
   "outputs": [],
   "source": [
    "df"
   ]
  },
  {
   "cell_type": "code",
   "execution_count": null,
   "id": "4ec3de53",
   "metadata": {},
   "outputs": [],
   "source": [
    "x=df[['Weight','Gender']]"
   ]
  },
  {
   "cell_type": "code",
   "execution_count": null,
   "id": "c6afd3b5",
   "metadata": {},
   "outputs": [],
   "source": [
    "y=df['Likeness']"
   ]
  },
  {
   "cell_type": "code",
   "execution_count": null,
   "id": "5df9768b",
   "metadata": {},
   "outputs": [],
   "source": [
    "from sklearn.neighbors import KNeighborsClassifier"
   ]
  },
  {
   "cell_type": "code",
   "execution_count": null,
   "id": "2f842b3b",
   "metadata": {},
   "outputs": [],
   "source": [
    "model=KNeighborsClassifier(n_neighbors=5)"
   ]
  },
  {
   "cell_type": "code",
   "execution_count": null,
   "id": "4478aa93",
   "metadata": {},
   "outputs": [],
   "source": [
    "model.fit(x,y)"
   ]
  },
  {
   "cell_type": "code",
   "execution_count": null,
   "id": "ec53acf4",
   "metadata": {},
   "outputs": [],
   "source": [
    "predicted=model.predict([[70,1]])"
   ]
  },
  {
   "cell_type": "code",
   "execution_count": null,
   "id": "f4f99b92",
   "metadata": {},
   "outputs": [],
   "source": [
    "model.predict(x)"
   ]
  },
  {
   "cell_type": "code",
   "execution_count": null,
   "id": "06409ed1",
   "metadata": {},
   "outputs": [],
   "source": [
    "from sklearn.model_selection import train_test_split\n",
    "from sklearn.metrics import accuracy_score\n",
    "x_train,x_test,y_train,y_test=train_test_split(x,y,test_size=0.2)"
   ]
  },
  {
   "cell_type": "code",
   "execution_count": null,
   "id": "b08e6845",
   "metadata": {},
   "outputs": [],
   "source": [
    "model=KNeighborsClassifier()"
   ]
  },
  {
   "cell_type": "code",
   "execution_count": null,
   "id": "872d4348",
   "metadata": {},
   "outputs": [],
   "source": [
    "model.fit(x_train,y_train)"
   ]
  },
  {
   "cell_type": "code",
   "execution_count": null,
   "id": "3a75e1e4",
   "metadata": {},
   "outputs": [],
   "source": [
    "predicted_values=model.predict(x_test)\n",
    "predicted_values"
   ]
  },
  {
   "cell_type": "code",
   "execution_count": null,
   "id": "bfe84842",
   "metadata": {},
   "outputs": [],
   "source": [
    "accuracy_score(y_test,predicted_values)"
   ]
  },
  {
   "cell_type": "code",
   "execution_count": null,
   "id": "63484e92",
   "metadata": {},
   "outputs": [],
   "source": [
    "# Import Pandas \n",
    "import pandas as pd\n",
    "# Finding Pandas Version\n",
    "pd.__version__"
   ]
  },
  {
   "cell_type": "code",
   "execution_count": null,
   "id": "ac2b2e36",
   "metadata": {},
   "outputs": [],
   "source": [
    "# Pandas Show Version\n",
    "pd.show_versions()"
   ]
  },
  {
   "cell_type": "code",
   "execution_count": null,
   "id": "e41e4d8c",
   "metadata": {},
   "outputs": [],
   "source": [
    "# Pandas DataFrame\n",
    "df=pd.DataFrame({'A':[1,2,3,4,5],'B':[6,7,8,9,10]})\n",
    "df"
   ]
  },
  {
   "cell_type": "code",
   "execution_count": null,
   "id": "814ddc76",
   "metadata": {},
   "outputs": [],
   "source": [
    "# Pandas DataFrame From NumPy Array\n",
    "import numpy as np\n",
    "df1=pd.DataFrame(np.array([1,2,3,4,5]))"
   ]
  },
  {
   "cell_type": "code",
   "execution_count": null,
   "id": "6efa9e84",
   "metadata": {},
   "outputs": [],
   "source": [
    "df1"
   ]
  },
  {
   "cell_type": "code",
   "execution_count": null,
   "id": "ad251194",
   "metadata": {},
   "outputs": [],
   "source": [
    "# Pandas DataFrame From NumPy Random Array Module Generation\n",
    "pd.DataFrame(np.random.randn(4,8))"
   ]
  },
  {
   "cell_type": "code",
   "execution_count": null,
   "id": "edd1f82f",
   "metadata": {},
   "outputs": [],
   "source": [
    "# Pandas DataFrame From NumPy Random Array Module Generation ( Normal Random )\n",
    "pd.DataFrame(np.random.randn(4,8),columns=['a','b','c','d','e','f','g','h'])"
   ]
  },
  {
   "cell_type": "code",
   "execution_count": null,
   "id": "7c3b5687",
   "metadata": {},
   "outputs": [],
   "source": [
    "# Ranaming Columns in DataFrame\n",
    "df.rename(columns={'A':'a'},inplace=True)"
   ]
  },
  {
   "cell_type": "code",
   "execution_count": null,
   "id": "0acf1087",
   "metadata": {},
   "outputs": [],
   "source": [
    "df"
   ]
  },
  {
   "cell_type": "code",
   "execution_count": null,
   "id": "e2b80a7f",
   "metadata": {},
   "outputs": [],
   "source": [
    "# DataFrame Columns Naming /Changing Columns Names\n",
    "df.columns=['a','b']"
   ]
  },
  {
   "cell_type": "code",
   "execution_count": null,
   "id": "0fb38b08",
   "metadata": {},
   "outputs": [],
   "source": [
    "df"
   ]
  },
  {
   "cell_type": "code",
   "execution_count": null,
   "id": "5c8d64a4",
   "metadata": {},
   "outputs": [],
   "source": [
    "# DataFrame Columns String Names Replace\n",
    "df.columns=df.columns.str.replace('b','B')"
   ]
  },
  {
   "cell_type": "code",
   "execution_count": null,
   "id": "6260ec1f",
   "metadata": {},
   "outputs": [],
   "source": [
    "\n",
    "df"
   ]
  },
  {
   "cell_type": "code",
   "execution_count": null,
   "id": "b2ec3a9b",
   "metadata": {},
   "outputs": [],
   "source": [
    "# DataFrame Add Prefrix Added /Before \n",
    "df=df.add_prefix('Cols')"
   ]
  },
  {
   "cell_type": "code",
   "execution_count": null,
   "id": "552299c8",
   "metadata": {},
   "outputs": [],
   "source": [
    "df"
   ]
  },
  {
   "cell_type": "code",
   "execution_count": null,
   "id": "557ce994",
   "metadata": {},
   "outputs": [],
   "source": [
    "# DataFrame Name Change After\n",
    "df=df.add_suffix('Were')\n",
    "df"
   ]
  },
  {
   "cell_type": "code",
   "execution_count": null,
   "id": "d386cf93",
   "metadata": {},
   "outputs": [],
   "source": [
    "# Seaborn DatSet Load check methods through pandas (.head)\n",
    "titanic=sns.load_dataset('titanic')\n",
    "titanic.head()"
   ]
  },
  {
   "cell_type": "code",
   "execution_count": null,
   "id": "9df757ab",
   "metadata": {},
   "outputs": [],
   "source": [
    "from pandas_profiling import pandas_profiling"
   ]
  },
  {
   "cell_type": "code",
   "execution_count": null,
   "id": "2025a53c",
   "metadata": {},
   "outputs": [],
   "source": [
    "iris=sns.load_dataset('iris')\n",
    "iris.head()"
   ]
  },
  {
   "cell_type": "code",
   "execution_count": null,
   "id": "7179c93f",
   "metadata": {},
   "outputs": [],
   "source": [
    "#  Seaborn Iris Daaset Through Pandas Describe Function\n",
    "iris.describe()"
   ]
  },
  {
   "cell_type": "code",
   "execution_count": null,
   "id": "f9cc0d20",
   "metadata": {},
   "outputs": [],
   "source": [
    "# DataFrame Columns\n",
    "df.columns"
   ]
  },
  {
   "cell_type": "code",
   "execution_count": null,
   "id": "2dcfa7be",
   "metadata": {},
   "outputs": [],
   "source": [
    "# DataFrame to Csv\n",
    "df.to_csv()"
   ]
  },
  {
   "cell_type": "code",
   "execution_count": null,
   "id": "077e70a3",
   "metadata": {},
   "outputs": [],
   "source": [
    "# DataFrame to Excel\n",
    "df.to_excel('df.xlsx')"
   ]
  },
  {
   "cell_type": "code",
   "execution_count": null,
   "id": "cf037c10",
   "metadata": {},
   "outputs": [],
   "source": [
    "# DataFrame Read Csv\n",
    "df=pd.read_csv('Salary_Data.csv')\n",
    "df"
   ]
  },
  {
   "cell_type": "code",
   "execution_count": null,
   "id": "30e13ca8",
   "metadata": {},
   "outputs": [],
   "source": [
    "# DataFrame Read Excel\n",
    "pd.read_excel('df.xlsx')"
   ]
  },
  {
   "cell_type": "code",
   "execution_count": null,
   "id": "9dc19163",
   "metadata": {},
   "outputs": [],
   "source": [
    "import pandas as pd\n",
    "import numpy as np\n",
    "import matplotlib.pyplot as plt\n",
    "from sklearn.datasets import load_digits"
   ]
  },
  {
   "cell_type": "code",
   "execution_count": null,
   "id": "df67a663",
   "metadata": {},
   "outputs": [],
   "source": [
    "digits=load_digits()"
   ]
  },
  {
   "cell_type": "code",
   "execution_count": null,
   "id": "bea2a3d9",
   "metadata": {},
   "outputs": [],
   "source": [
    "x=digits.data\n",
    "x.shape"
   ]
  },
  {
   "cell_type": "code",
   "execution_count": null,
   "id": "96ebe76c",
   "metadata": {},
   "outputs": [],
   "source": [
    "y=digits.target\n",
    "y.shape"
   ]
  },
  {
   "cell_type": "code",
   "execution_count": null,
   "id": "9034da0c",
   "metadata": {},
   "outputs": [],
   "source": [
    "plt.figure(figsize=(20,4))\n",
    "for index,(image,label) in enumerate(zip(digits.data[0:10],digits.target[0:10])):\n",
    "    plt.subplot(1,10,index+1)\n",
    "    plt.imshow(np.reshape(image,(8,8)),cmap=plt.cm.gray)\n",
    "    plt.title('Training: %i\\n' %label,fontsize=20)"
   ]
  },
  {
   "cell_type": "code",
   "execution_count": null,
   "id": "9110bb19",
   "metadata": {},
   "outputs": [],
   "source": [
    "plt.figure(figsize=(20,4))\n",
    "for index,(image,label) in enumerate(zip(digits.data[0:5],digits.target[0:5])):\n",
    "    plt.subplot(1,5,index+1)\n",
    "    plt.imshow(np.reshape(image,(8,8)),cmap=plt.cm.gray)\n",
    "    plt.title('Training: %i\\n' %label,fontsize=20)"
   ]
  },
  {
   "cell_type": "code",
   "execution_count": null,
   "id": "a6fc73ae",
   "metadata": {},
   "outputs": [],
   "source": [
    "plt.figure(figsize=(20,4))\n",
    "for index,(image,label) in enumerate(zip(digits.data[0:20],digits.target[0:20])):\n",
    "    plt.subplot(1,20,index+1)\n",
    "    plt.imshow(np.reshape(image,(8,8)),cmap=plt.cm.gray)\n",
    "    plt.title('Training: %i\\n' %label,fontsize=20)"
   ]
  },
  {
   "cell_type": "code",
   "execution_count": null,
   "id": "e5d1223c",
   "metadata": {},
   "outputs": [],
   "source": [
    "plt.figure(figsize=(20,4))\n",
    "for index,(image,label) in enumerate(zip(digits.data[0:20],digits.target[0:20])):\n",
    "    plt.subplot(1,20,index+1)\n",
    "    plt.imshow(np.reshape(image,(8,8)),cmap=plt.cm.gray)\n",
    "    plt.title(label,fontsize=20)"
   ]
  },
  {
   "cell_type": "code",
   "execution_count": null,
   "id": "757eef21",
   "metadata": {},
   "outputs": [],
   "source": [
    "help(plt)"
   ]
  },
  {
   "cell_type": "code",
   "execution_count": null,
   "id": "411d103a",
   "metadata": {},
   "outputs": [],
   "source": [
    "from sklearn.model_selection import train_test_split"
   ]
  },
  {
   "cell_type": "code",
   "execution_count": null,
   "id": "890c5968",
   "metadata": {},
   "outputs": [],
   "source": [
    "x_train,x_test,y_train,y_teset=train_test_split(x,y,test_size=0.2,random_state=0)\n",
    "x_train,x_test,y_train,y_teset=train_test_split(x,y,test_size=0.35,random_state=0)\n",
    "x_train,x_test,y_train,y_teset=train_test_split(x,y,test_size=0.25,random_state=0)"
   ]
  },
  {
   "cell_type": "code",
   "execution_count": null,
   "id": "2d119f44",
   "metadata": {},
   "outputs": [],
   "source": [
    "x_train"
   ]
  },
  {
   "cell_type": "code",
   "execution_count": null,
   "id": "6e9d118f",
   "metadata": {},
   "outputs": [],
   "source": [
    "x_train.shape"
   ]
  },
  {
   "cell_type": "code",
   "execution_count": null,
   "id": "9c6bc606",
   "metadata": {},
   "outputs": [],
   "source": [
    "x_test.shape"
   ]
  },
  {
   "cell_type": "code",
   "execution_count": null,
   "id": "57fb09e3",
   "metadata": {},
   "outputs": [],
   "source": [
    "y_train.shape"
   ]
  },
  {
   "cell_type": "code",
   "execution_count": null,
   "id": "64cccb31",
   "metadata": {},
   "outputs": [],
   "source": [
    "y_teset.shape"
   ]
  },
  {
   "cell_type": "code",
   "execution_count": null,
   "id": "9fee8fbd",
   "metadata": {},
   "outputs": [],
   "source": [
    "from sklearn.linear_model import LogisticRegression"
   ]
  },
  {
   "cell_type": "code",
   "execution_count": null,
   "id": "2904581c",
   "metadata": {},
   "outputs": [],
   "source": [
    "log_reg=LogisticRegression().fit(x_train,y_train)\n",
    "log_reg"
   ]
  },
  {
   "cell_type": "code",
   "execution_count": null,
   "id": "f60ae66c",
   "metadata": {},
   "outputs": [],
   "source": [
    "log_reg.predict(x_test[0:5])"
   ]
  },
  {
   "cell_type": "code",
   "execution_count": null,
   "id": "4956a3fe",
   "metadata": {},
   "outputs": [],
   "source": [
    "log_reg.predict(x_test[0:20])"
   ]
  },
  {
   "cell_type": "code",
   "execution_count": null,
   "id": "37006602",
   "metadata": {},
   "outputs": [],
   "source": [
    "log_reg.predict(x_test[0:360])"
   ]
  },
  {
   "cell_type": "code",
   "execution_count": null,
   "id": "690433a8",
   "metadata": {},
   "outputs": [],
   "source": [
    "log_reg.predict(x_test[0:359])"
   ]
  },
  {
   "cell_type": "code",
   "execution_count": null,
   "id": "18e0a802",
   "metadata": {},
   "outputs": [],
   "source": [
    "log_reg.predict(x_test[0:260])"
   ]
  },
  {
   "cell_type": "code",
   "execution_count": null,
   "id": "1ed0cfba",
   "metadata": {},
   "outputs": [],
   "source": [
    "log_reg.predict(x_test[:])"
   ]
  },
  {
   "cell_type": "code",
   "execution_count": null,
   "id": "48c644cc",
   "metadata": {},
   "outputs": [],
   "source": [
    "score=log_reg.score(x_test,y_teset)"
   ]
  },
  {
   "cell_type": "code",
   "execution_count": null,
   "id": "ea1cbf7d",
   "metadata": {},
   "outputs": [],
   "source": [
    "score"
   ]
  },
  {
   "cell_type": "code",
   "execution_count": null,
   "id": "729295df",
   "metadata": {},
   "outputs": [],
   "source": [
    "from sklearn.metrics import confusion_matrix\n"
   ]
  },
  {
   "cell_type": "code",
   "execution_count": null,
   "id": "56cabd9d",
   "metadata": {},
   "outputs": [],
   "source": [
    "predictions=log_reg.predict(x_test)\n",
    "from sklearn import metrics\n",
    "predictions"
   ]
  },
  {
   "cell_type": "code",
   "execution_count": null,
   "id": "f5bb363f",
   "metadata": {},
   "outputs": [],
   "source": [
    "cm=metrics.confusion_matrix(y_teset,predictions)\n",
    "cm"
   ]
  },
  {
   "cell_type": "code",
   "execution_count": null,
   "id": "5aaa570a",
   "metadata": {},
   "outputs": [],
   "source": [
    "plt.figure(figsize=(9,9))\n",
    "import seaborn as sns\n",
    "sns.heatmap(cm,annot=True,fmt='.3f',linewidths=.5,square=True,cmap='Spectral')\n",
    "plt.ylabel('Actual Output')\n",
    "plt.xlabel('Predicted Output')\n",
    "all_sample_score='Accuracy Score {0}'.format(score)\n",
    "plt.title(all_sample_score,size=15)"
   ]
  },
  {
   "cell_type": "code",
   "execution_count": null,
   "id": "5ffba032",
   "metadata": {},
   "outputs": [],
   "source": [
    "cm"
   ]
  },
  {
   "cell_type": "code",
   "execution_count": null,
   "id": "67345978",
   "metadata": {},
   "outputs": [],
   "source": [
    "import numpy as np\n",
    "import matplotlib.pyplot as plt\n",
    "index=0\n",
    "misclassifications=[]\n",
    "for label,predict in zip(y_teset,predictions):\n",
    "    if label!=predict:\n",
    "        misclassifications.append(index)\n",
    "        index+=1"
   ]
  },
  {
   "cell_type": "code",
   "execution_count": null,
   "id": "54bcd704",
   "metadata": {},
   "outputs": [],
   "source": [
    "plt.figure(figsize=(20,4))\n",
    "for plotIndex,badIndex in enumerate(misclassifications[0:5]):\n",
    "    plt.subplot(1,5,plotIndex+1)\n",
    "    plt.imshow(np.reshape(x_test[badIndex],(8,8)),cmap=plt.cm.gray)\n",
    "    plt.title('Predicted:{},Actual{}'.format(predictions[badIndex],y_teset[badIndex]),fontsize=20)"
   ]
  },
  {
   "cell_type": "code",
   "execution_count": null,
   "id": "bafa9d41",
   "metadata": {},
   "outputs": [],
   "source": [
    "plt.figure(figsize=(20,4))\n",
    "for plotIndex,badIndex in enumerate(misclassifications[0:10]):\n",
    "    plt.subplot(1,10,plotIndex+1)\n",
    "    plt.imshow(np.reshape(x_test[badIndex],(8,8)),cmap=plt.cm.gray)\n",
    "    plt.title('Predicted:{},Actual{}'.format(predictions[badIndex],y_teset[badIndex]),fontsize=20)"
   ]
  },
  {
   "cell_type": "code",
   "execution_count": null,
   "id": "2de602c0",
   "metadata": {},
   "outputs": [],
   "source": [
    "plt.figure(figsize=(20,4))\n",
    "for plotIndex,badIndex in enumerate(misclassifications[5:10]):\n",
    "    plt.subplot(1,10,plotIndex+1)\n",
    "    plt.imshow(np.reshape(x_test[badIndex],(8,8)),cmap=plt.cm.gray)\n",
    "    plt.title((predictions[badIndex],y_teset[badIndex]),fontsize=20)"
   ]
  },
  {
   "cell_type": "code",
   "execution_count": null,
   "id": "5129447e",
   "metadata": {},
   "outputs": [],
   "source": [
    "import seaborn as sns\n",
    "import pandas as pd"
   ]
  },
  {
   "cell_type": "code",
   "execution_count": null,
   "id": "8f2e72c3",
   "metadata": {},
   "outputs": [],
   "source": [
    "df=sns.load_dataset('titanic')\n",
    "df"
   ]
  },
  {
   "cell_type": "code",
   "execution_count": null,
   "id": "4549530a",
   "metadata": {},
   "outputs": [],
   "source": [
    "df.loc[::-1]"
   ]
  },
  {
   "cell_type": "code",
   "execution_count": null,
   "id": "613166ee",
   "metadata": {},
   "outputs": [],
   "source": [
    "df.loc[::-1].reset_index(drop=True,inplace=True)"
   ]
  },
  {
   "cell_type": "code",
   "execution_count": null,
   "id": "f969af9d",
   "metadata": {},
   "outputs": [],
   "source": [
    "df"
   ]
  },
  {
   "cell_type": "code",
   "execution_count": null,
   "id": "64d0a728",
   "metadata": {},
   "outputs": [],
   "source": [
    "df.head(-5)"
   ]
  },
  {
   "cell_type": "code",
   "execution_count": null,
   "id": "c1561caf",
   "metadata": {},
   "outputs": [],
   "source": [
    "df.loc[:,::-1]"
   ]
  },
  {
   "cell_type": "code",
   "execution_count": null,
   "id": "c93ff614",
   "metadata": {},
   "outputs": [],
   "source": [
    "df.dtypes"
   ]
  },
  {
   "cell_type": "code",
   "execution_count": null,
   "id": "f9b06b56",
   "metadata": {},
   "outputs": [],
   "source": [
    "df.select_dtypes(include=['number'])"
   ]
  },
  {
   "cell_type": "code",
   "execution_count": null,
   "id": "9bc01f1a",
   "metadata": {},
   "outputs": [],
   "source": [
    "df.select_dtypes(include=['object','number'])"
   ]
  },
  {
   "cell_type": "code",
   "execution_count": null,
   "id": "50c8fd1b",
   "metadata": {},
   "outputs": [],
   "source": [
    "df.select_dtypes(include=['object','category'])"
   ]
  },
  {
   "cell_type": "code",
   "execution_count": null,
   "id": "0965aa60",
   "metadata": {},
   "outputs": [],
   "source": [
    "df.select_dtypes(exclude=['number'])"
   ]
  },
  {
   "cell_type": "code",
   "execution_count": null,
   "id": "dd3c232b",
   "metadata": {},
   "outputs": [],
   "source": [
    "df=pd.DataFrame({'ColA':[1,2,3,4,5.8,6,7,8,9,'10'],'ColB':[11.0,12,13,14,'15',16,17,18,np.nan,20]})\n",
    "df"
   ]
  },
  {
   "cell_type": "code",
   "execution_count": null,
   "id": "9d8e2eeb",
   "metadata": {},
   "outputs": [],
   "source": [
    "df.dtypes"
   ]
  },
  {
   "cell_type": "code",
   "execution_count": null,
   "id": "16447984",
   "metadata": {},
   "outputs": [],
   "source": [
    "df.astype({'ColA':'int64'}).dtypes"
   ]
  },
  {
   "cell_type": "code",
   "execution_count": null,
   "id": "375d5d96",
   "metadata": {},
   "outputs": [],
   "source": [
    "pd.to_numeric(df['ColA'],errors='coerce')\n",
    "pd.to_numeric(df['ColB'],errors='coerce')"
   ]
  },
  {
   "cell_type": "code",
   "execution_count": null,
   "id": "c28e7908",
   "metadata": {},
   "outputs": [],
   "source": [
    "df.dtypes"
   ]
  },
  {
   "cell_type": "code",
   "execution_count": null,
   "id": "99725149",
   "metadata": {},
   "outputs": [],
   "source": [
    "titanic=sns.load_dataset('titanic')"
   ]
  },
  {
   "cell_type": "code",
   "execution_count": null,
   "id": "ce624fa8",
   "metadata": {},
   "outputs": [],
   "source": [
    "titanic.info(memory_usage='deep')"
   ]
  },
  {
   "cell_type": "code",
   "execution_count": null,
   "id": "20bb5734",
   "metadata": {},
   "outputs": [],
   "source": [
    "df.sample(frac=0.1)"
   ]
  },
  {
   "cell_type": "code",
   "execution_count": null,
   "id": "9cd3534d",
   "metadata": {},
   "outputs": [],
   "source": [
    "df.sample(frac=0.1).shape"
   ]
  },
  {
   "cell_type": "code",
   "execution_count": null,
   "id": "b9206cd9",
   "metadata": {},
   "outputs": [],
   "source": [
    "df.sample(frac=0.5).shape"
   ]
  },
  {
   "cell_type": "code",
   "execution_count": null,
   "id": "5e8fa4cd",
   "metadata": {},
   "outputs": [],
   "source": [
    "df.info()"
   ]
  },
  {
   "cell_type": "code",
   "execution_count": null,
   "id": "3fdd8915",
   "metadata": {},
   "outputs": [],
   "source": [
    "import pandas as pd\n",
    "import numpy as np\n",
    "import seaborn as sns\n",
    "df=sns.load_dataset('iris')\n",
    "df.head()"
   ]
  },
  {
   "cell_type": "code",
   "execution_count": null,
   "id": "8af568ba",
   "metadata": {},
   "outputs": [],
   "source": [
    "import matplotlib.pyplot as plt\n",
    "from sklearn.tree import DecisionTreeClassifier"
   ]
  },
  {
   "cell_type": "code",
   "execution_count": null,
   "id": "980d26c5",
   "metadata": {},
   "outputs": [],
   "source": [
    "x=df.iloc[:,:-1]\n",
    "y=df.iloc[:,-1:]"
   ]
  },
  {
   "cell_type": "code",
   "execution_count": null,
   "id": "8cd8d447",
   "metadata": {},
   "outputs": [],
   "source": [
    "x"
   ]
  },
  {
   "cell_type": "code",
   "execution_count": null,
   "id": "8390d0e4",
   "metadata": {},
   "outputs": [],
   "source": [
    "y"
   ]
  },
  {
   "cell_type": "code",
   "execution_count": null,
   "id": "726698fd",
   "metadata": {},
   "outputs": [],
   "source": [
    "from sklearn.tree import DecisionTreeClassifier\n",
    "from sklearn.tree import plot_tree\n",
    "model=DecisionTreeClassifier().fit(x,y)\n",
    "plot_tree(model,filled=True)\n",
    "plt.title('Decision Tree on Trained Data')\n",
    "plt.savefig('tiff_compressed.tiff',dpi=600,format='tiff',facecolor='white',\n",
    "           edgecolor='none',pil_kwargs={'compression':'tiff_lzw'})\n",
    "plt.show()"
   ]
  },
  {
   "cell_type": "code",
   "execution_count": null,
   "id": "c5562222",
   "metadata": {},
   "outputs": [],
   "source": [
    "from sklearn.ensemble import RandomForestClassifier"
   ]
  },
  {
   "cell_type": "code",
   "execution_count": null,
   "id": "c5a7440f",
   "metadata": {},
   "outputs": [],
   "source": [
    "model=RandomForestClassifier(n_estimators=100)"
   ]
  },
  {
   "cell_type": "code",
   "execution_count": null,
   "id": "1b6cb056",
   "metadata": {},
   "outputs": [],
   "source": [
    "model.fit(x,y)"
   ]
  },
  {
   "cell_type": "code",
   "execution_count": null,
   "id": "b6936773",
   "metadata": {},
   "outputs": [],
   "source": [
    "model.predict([[5,4,2,6]])"
   ]
  },
  {
   "cell_type": "code",
   "execution_count": null,
   "id": "fcbf3529",
   "metadata": {},
   "outputs": [],
   "source": [
    "x=np.arange(20)\n",
    "y=[3,3,3,3,3,3,3,-1,1,1,-2,-99,-99,-99,-99,-99,-99,-99,-99,-99]\n",
    "model=np.poly1d(np.polyfit(x,y,3))"
   ]
  },
  {
   "cell_type": "code",
   "execution_count": null,
   "id": "b0c57c5d",
   "metadata": {},
   "outputs": [],
   "source": [
    "l=np.linspace(2,95,100)\n",
    "l"
   ]
  },
  {
   "cell_type": "code",
   "execution_count": null,
   "id": "4f5c9433",
   "metadata": {},
   "outputs": [],
   "source": [
    "plt.scatter(x,y)"
   ]
  },
  {
   "cell_type": "code",
   "execution_count": null,
   "id": "e0fb1bbd",
   "metadata": {},
   "outputs": [],
   "source": [
    "plt.plot(l,model(l))"
   ]
  },
  {
   "cell_type": "code",
   "execution_count": null,
   "id": "d1faa10f",
   "metadata": {},
   "outputs": [],
   "source": [
    "from sklearn.metrics import r2_score"
   ]
  },
  {
   "cell_type": "code",
   "execution_count": null,
   "id": "4fe9ac80",
   "metadata": {},
   "outputs": [],
   "source": [
    "r2_score(y,model(x))"
   ]
  },
  {
   "cell_type": "code",
   "execution_count": null,
   "id": "f55b8cef",
   "metadata": {},
   "outputs": [],
   "source": [
    "plt.scatter(x,y,color='g')"
   ]
  },
  {
   "cell_type": "code",
   "execution_count": null,
   "id": "c3233424",
   "metadata": {},
   "outputs": [],
   "source": [
    "plt.plot(np.poly1d(np.linspace(1,22,40)))"
   ]
  },
  {
   "cell_type": "code",
   "execution_count": null,
   "id": "33931dad",
   "metadata": {},
   "outputs": [],
   "source": [
    "speed=model(19)\n",
    "speed"
   ]
  },
  {
   "cell_type": "code",
   "execution_count": null,
   "id": "b817e9e6",
   "metadata": {},
   "outputs": [],
   "source": [
    "from sklearn.linear_model import LinearRegression"
   ]
  },
  {
   "cell_type": "code",
   "execution_count": null,
   "id": "890dc0a8",
   "metadata": {},
   "outputs": [],
   "source": [
    "from sklearn.preprocessing import PolynomialFeatures"
   ]
  },
  {
   "cell_type": "code",
   "execution_count": null,
   "id": "f3d0bb6f",
   "metadata": {},
   "outputs": [],
   "source": [
    "p=PolynomialFeatures(degree=4)"
   ]
  },
  {
   "cell_type": "code",
   "execution_count": null,
   "id": "410c7c89",
   "metadata": {},
   "outputs": [],
   "source": [
    "import pandas as pd\n",
    "import numpy as np\n",
    "import seaborn as sns\n",
    "iris=sns.load_dataset('iris')\n",
    "iris.head()"
   ]
  },
  {
   "cell_type": "code",
   "execution_count": null,
   "id": "b26348b0",
   "metadata": {},
   "outputs": [],
   "source": [
    "x=iris.iloc[:,:-1]\n",
    "y=iris.iloc[:,-1:]"
   ]
  },
  {
   "cell_type": "code",
   "execution_count": null,
   "id": "5a61864a",
   "metadata": {},
   "outputs": [],
   "source": [
    "from sklearn.naive_bayes import GaussianNB"
   ]
  },
  {
   "cell_type": "code",
   "execution_count": null,
   "id": "24b15c45",
   "metadata": {},
   "outputs": [],
   "source": [
    "model=GaussianNB().fit(x,y)\n",
    "model"
   ]
  },
  {
   "cell_type": "code",
   "execution_count": null,
   "id": "34f3eabb",
   "metadata": {},
   "outputs": [],
   "source": [
    "from sklearn.model_selection import train_test_split\n",
    "x_train,x_test,y_train,y_teset=train_test_split(x,y,test_size=0.2,random_state=0)"
   ]
  },
  {
   "cell_type": "code",
   "execution_count": null,
   "id": "9aa28e60",
   "metadata": {},
   "outputs": [],
   "source": [
    "y_pred=model.predict(x_test)\n",
    "y_pred"
   ]
  },
  {
   "cell_type": "code",
   "execution_count": null,
   "id": "411ac37e",
   "metadata": {},
   "outputs": [],
   "source": [
    "from sklearn import metrics\n",
    "score=metrics.accuracy_score(y_teset,y_pred)\n",
    "print('gaussian navie bayees accuracy %',metrics.accuracy_score(y_teset,y_pred)*100)"
   ]
  },
  {
   "cell_type": "code",
   "execution_count": null,
   "id": "581e5a51",
   "metadata": {},
   "outputs": [],
   "source": [
    "from sklearn.metrics import confusion_matrix\n",
    "cm=metrics.confusion_matrix(y_teset,y_pred)"
   ]
  },
  {
   "cell_type": "code",
   "execution_count": null,
   "id": "dcaa9a0e",
   "metadata": {},
   "outputs": [],
   "source": [
    "cm"
   ]
  },
  {
   "cell_type": "code",
   "execution_count": null,
   "id": "c5bdefcd",
   "metadata": {},
   "outputs": [],
   "source": [
    "import seaborn as sns\n",
    "plt.figure(figsize=(12,12))\n",
    "sns.heatmap(cm,annot=True,fmt='.3f',linewidths=.5\n",
    "           ,square=True,cmap='Spectral')\n",
    "plt.ylabel('Actual Label')\n",
    "plt.xlabel('Predicted Label')\n",
    "all_sample_title='Gausian Navie Byes model {0}'.format(score*100)\n",
    "plt.title(all_sample_title,size=15)"
   ]
  },
  {
   "cell_type": "code",
   "execution_count": null,
   "id": "b2d9b072",
   "metadata": {},
   "outputs": [],
   "source": [
    "import seaborn as sns"
   ]
  },
  {
   "cell_type": "code",
   "execution_count": null,
   "id": "252254fd",
   "metadata": {},
   "outputs": [],
   "source": [
    "iris=sns.load_dataset('iris')"
   ]
  },
  {
   "cell_type": "code",
   "execution_count": null,
   "id": "06d243f9",
   "metadata": {},
   "outputs": [],
   "source": [
    "import pandas as pd"
   ]
  },
  {
   "cell_type": "code",
   "execution_count": null,
   "id": "fb244b28",
   "metadata": {},
   "outputs": [],
   "source": [
    "import pandas_profiling as pp"
   ]
  },
  {
   "cell_type": "code",
   "execution_count": null,
   "id": "03746115",
   "metadata": {},
   "outputs": [],
   "source": [
    "pp.ProfileReport(iris)"
   ]
  },
  {
   "cell_type": "code",
   "execution_count": null,
   "id": "29798238",
   "metadata": {},
   "outputs": [],
   "source": [
    "import pandas as pd"
   ]
  },
  {
   "cell_type": "code",
   "execution_count": null,
   "id": "d87553ba",
   "metadata": {},
   "outputs": [],
   "source": [
    "import seaborn as sns"
   ]
  },
  {
   "cell_type": "code",
   "execution_count": null,
   "id": "0aa7ac08",
   "metadata": {},
   "outputs": [],
   "source": [
    "tip=sns.load_dataset('tips')"
   ]
  },
  {
   "cell_type": "code",
   "execution_count": null,
   "id": "91984921",
   "metadata": {},
   "outputs": [],
   "source": [
    "tip.to_excel('tip.xlsx')"
   ]
  },
  {
   "cell_type": "code",
   "execution_count": null,
   "id": "ffd79256",
   "metadata": {},
   "outputs": [],
   "source": [
    "df=pd.read_clipboard()\n",
    "df"
   ]
  },
  {
   "cell_type": "code",
   "execution_count": null,
   "id": "21a7149a",
   "metadata": {},
   "outputs": [],
   "source": [
    "tip"
   ]
  },
  {
   "cell_type": "code",
   "execution_count": null,
   "id": "09d15f73",
   "metadata": {},
   "outputs": [],
   "source": [
    "df.to_clipboard()\n",
    "df"
   ]
  },
  {
   "cell_type": "code",
   "execution_count": null,
   "id": "76e7c864",
   "metadata": {},
   "outputs": [],
   "source": [
    "df.to_clipboard()\n",
    "df"
   ]
  },
  {
   "cell_type": "code",
   "execution_count": null,
   "id": "10bacd86",
   "metadata": {},
   "outputs": [],
   "source": [
    "df.to_clipboard()\n",
    "df"
   ]
  },
  {
   "cell_type": "code",
   "execution_count": null,
   "id": "63b30368",
   "metadata": {},
   "outputs": [],
   "source": [
    "import streamlit as st"
   ]
  },
  {
   "cell_type": "code",
   "execution_count": null,
   "id": "556c4eac",
   "metadata": {},
   "outputs": [],
   "source": [
    "titanic_1=sns.load_dataset('titanic')"
   ]
  },
  {
   "cell_type": "code",
   "execution_count": null,
   "id": "dd5f6599",
   "metadata": {},
   "outputs": [],
   "source": [
    "len(titanic_1)"
   ]
  },
  {
   "cell_type": "code",
   "execution_count": null,
   "id": "59599e89",
   "metadata": {},
   "outputs": [],
   "source": [
    "titanic_1.shape"
   ]
  },
  {
   "cell_type": "code",
   "execution_count": null,
   "id": "a13b91a0",
   "metadata": {},
   "outputs": [],
   "source": [
    "titanic_1.sample(frac=0.50,random_state=1)\n",
    "titanic_1.shape"
   ]
  },
  {
   "cell_type": "code",
   "execution_count": null,
   "id": "712199e2",
   "metadata": {},
   "outputs": [],
   "source": [
    "titanic_1=titanic_1.drop(titanic.index)"
   ]
  },
  {
   "cell_type": "code",
   "execution_count": null,
   "id": "37638b52",
   "metadata": {},
   "outputs": [],
   "source": [
    "titanic_1.shape"
   ]
  },
  {
   "cell_type": "code",
   "execution_count": null,
   "id": "688c97be",
   "metadata": {},
   "outputs": [],
   "source": [
    "titanic_1.head()"
   ]
  },
  {
   "cell_type": "code",
   "execution_count": null,
   "id": "a8f61a52",
   "metadata": {},
   "outputs": [],
   "source": [
    "titanic_1.shape"
   ]
  },
  {
   "cell_type": "code",
   "execution_count": null,
   "id": "0b55f495",
   "metadata": {},
   "outputs": [],
   "source": [
    "len(titanic_1)+len(titanic_2)"
   ]
  },
  {
   "cell_type": "code",
   "execution_count": null,
   "id": "399c67a6",
   "metadata": {},
   "outputs": [],
   "source": [
    "titanic_2=sns.load_dataset('titanic')\n",
    "titanic_2"
   ]
  },
  {
   "cell_type": "code",
   "execution_count": null,
   "id": "1abf098d",
   "metadata": {},
   "outputs": [],
   "source": [
    "df1=titanic_1.append(titanic_2)\n",
    "df1.shape"
   ]
  },
  {
   "cell_type": "code",
   "execution_count": null,
   "id": "c40c7c0b",
   "metadata": {},
   "outputs": [],
   "source": [
    "df1.sex.unique()"
   ]
  },
  {
   "cell_type": "code",
   "execution_count": null,
   "id": "da260622",
   "metadata": {},
   "outputs": [],
   "source": [
    "df1[(df1.sex=='female')]"
   ]
  },
  {
   "cell_type": "code",
   "execution_count": null,
   "id": "3e78c4ce",
   "metadata": {},
   "outputs": [],
   "source": [
    "df1['class'].unique()"
   ]
  },
  {
   "cell_type": "code",
   "execution_count": null,
   "id": "43d6a58e",
   "metadata": {},
   "outputs": [],
   "source": [
    "df1.age.unique()"
   ]
  },
  {
   "cell_type": "code",
   "execution_count": null,
   "id": "987ae2df",
   "metadata": {},
   "outputs": [],
   "source": [
    "df1.embark_town.unique()"
   ]
  },
  {
   "cell_type": "code",
   "execution_count": null,
   "id": "083abcc7",
   "metadata": {},
   "outputs": [],
   "source": [
    "df1.embarked.unique()"
   ]
  },
  {
   "cell_type": "code",
   "execution_count": null,
   "id": "78cafcc3",
   "metadata": {},
   "outputs": [],
   "source": [
    "df1[(df1.embark_town=='Southampton')]"
   ]
  },
  {
   "cell_type": "code",
   "execution_count": null,
   "id": "2b96f9ca",
   "metadata": {},
   "outputs": [],
   "source": [
    "df1[(df1.embark_town=='Southampton') & (df1.sex=='female')]"
   ]
  },
  {
   "cell_type": "code",
   "execution_count": null,
   "id": "a460371e",
   "metadata": {},
   "outputs": [],
   "source": [
    "df1[(df1.embark_town=='Southampton') | (df1.embark_town=='Queenstown')& (df1.sex=='female')]"
   ]
  },
  {
   "cell_type": "code",
   "execution_count": null,
   "id": "ea7a556e",
   "metadata": {},
   "outputs": [],
   "source": [
    "df1[(df1.embark_town=='Southampton') & (df1.embark_town=='Queenstown')& (df1.sex=='female')]"
   ]
  },
  {
   "cell_type": "code",
   "execution_count": null,
   "id": "900226d0",
   "metadata": {},
   "outputs": [],
   "source": [
    "df1[((df1.embark_town=='Southampton') | (df1.embark_town=='Queenstown')) & (df1.sex=='female')]"
   ]
  },
  {
   "cell_type": "code",
   "execution_count": null,
   "id": "7ec68012",
   "metadata": {},
   "outputs": [],
   "source": [
    "df1[df1.embark_town.isin(['Queenstown','Southampton'])].head()"
   ]
  },
  {
   "cell_type": "code",
   "execution_count": null,
   "id": "64321fad",
   "metadata": {},
   "outputs": [],
   "source": [
    "df1[df1.age>30]"
   ]
  },
  {
   "cell_type": "code",
   "execution_count": null,
   "id": "5f0589a1",
   "metadata": {},
   "outputs": [],
   "source": [
    "df1[df1.age>30].shape"
   ]
  },
  {
   "cell_type": "code",
   "execution_count": null,
   "id": "c774a1ca",
   "metadata": {},
   "outputs": [],
   "source": [
    "df1[df1.age>18].shape"
   ]
  },
  {
   "cell_type": "code",
   "execution_count": null,
   "id": "1faed826",
   "metadata": {},
   "outputs": [],
   "source": [
    "df1.embark_town.value_counts()"
   ]
  },
  {
   "cell_type": "code",
   "execution_count": null,
   "id": "03229ed8",
   "metadata": {},
   "outputs": [],
   "source": [
    "df1.sex.value_counts()"
   ]
  },
  {
   "cell_type": "code",
   "execution_count": null,
   "id": "309f09bb",
   "metadata": {},
   "outputs": [],
   "source": [
    "df1.age.value_counts()"
   ]
  },
  {
   "cell_type": "code",
   "execution_count": null,
   "id": "d41e127e",
   "metadata": {},
   "outputs": [],
   "source": [
    "df1.sex.value_counts().nlargest(2)"
   ]
  },
  {
   "cell_type": "code",
   "execution_count": null,
   "id": "a4c727e9",
   "metadata": {},
   "outputs": [],
   "source": [
    "df1.sex.value_counts().nlargest(3)"
   ]
  },
  {
   "cell_type": "code",
   "execution_count": null,
   "id": "abddabbc",
   "metadata": {},
   "outputs": [],
   "source": [
    "df1.sex.value_counts().nsmallest(1)"
   ]
  },
  {
   "cell_type": "code",
   "execution_count": null,
   "id": "ff9562e2",
   "metadata": {},
   "outputs": [],
   "source": [
    "df1.sex.value_counts().nlargest(3).index"
   ]
  },
  {
   "cell_type": "code",
   "execution_count": null,
   "id": "18e470a3",
   "metadata": {},
   "outputs": [],
   "source": [
    "counts=df1.who.value_counts()"
   ]
  },
  {
   "cell_type": "code",
   "execution_count": null,
   "id": "c9a6e112",
   "metadata": {},
   "outputs": [],
   "source": [
    "counts.nlargest(3).index"
   ]
  },
  {
   "cell_type": "code",
   "execution_count": null,
   "id": "b062ab28",
   "metadata": {},
   "outputs": [],
   "source": [
    "df1[df1.who.isin(counts.nlargest(2).index)].head()"
   ]
  },
  {
   "cell_type": "code",
   "execution_count": null,
   "id": "da2ce35a",
   "metadata": {},
   "outputs": [],
   "source": [
    "from calendar import *"
   ]
  },
  {
   "cell_type": "code",
   "execution_count": null,
   "id": "a1178f41",
   "metadata": {},
   "outputs": [],
   "source": [
    "print(calendar(2022,2,1,8,4))"
   ]
  },
  {
   "cell_type": "code",
   "execution_count": null,
   "id": "6917a8d1",
   "metadata": {},
   "outputs": [],
   "source": [
    "from sklearn import datasets"
   ]
  },
  {
   "cell_type": "code",
   "execution_count": null,
   "id": "9d82b352",
   "metadata": {},
   "outputs": [],
   "source": [
    "cancer=datasets.load_breast_cancer()"
   ]
  },
  {
   "cell_type": "code",
   "execution_count": null,
   "id": "1c674a24",
   "metadata": {},
   "outputs": [],
   "source": [
    "cancer.feature_names"
   ]
  },
  {
   "cell_type": "code",
   "execution_count": null,
   "id": "39d0c60a",
   "metadata": {},
   "outputs": [],
   "source": [
    "cancer.target_names"
   ]
  },
  {
   "cell_type": "code",
   "execution_count": null,
   "id": "6c38c918",
   "metadata": {},
   "outputs": [],
   "source": [
    "cancer.data.shape"
   ]
  },
  {
   "cell_type": "code",
   "execution_count": null,
   "id": "55006d69",
   "metadata": {},
   "outputs": [],
   "source": [
    "cancer.data[0:5]"
   ]
  },
  {
   "cell_type": "code",
   "execution_count": null,
   "id": "d743cc5d",
   "metadata": {},
   "outputs": [],
   "source": [
    "cancer.target"
   ]
  },
  {
   "cell_type": "code",
   "execution_count": null,
   "id": "df80f819",
   "metadata": {},
   "outputs": [],
   "source": [
    "from sklearn import svm"
   ]
  },
  {
   "cell_type": "code",
   "execution_count": null,
   "id": "10faa50e",
   "metadata": {},
   "outputs": [],
   "source": [
    "clf=svm.SVC(kernel='linear')"
   ]
  },
  {
   "cell_type": "code",
   "execution_count": null,
   "id": "02677540",
   "metadata": {},
   "outputs": [],
   "source": [
    "from sklearn.model_selection import train_test_split"
   ]
  },
  {
   "cell_type": "code",
   "execution_count": null,
   "id": "703dbe25",
   "metadata": {},
   "outputs": [],
   "source": [
    "x_train,x_test,y_train,y_test=train_test_split(cancer.data,cancer.target,test_size=0.4,random_state=0)"
   ]
  },
  {
   "cell_type": "code",
   "execution_count": null,
   "id": "ae1d075c",
   "metadata": {},
   "outputs": [],
   "source": [
    "clf.fit(x_train,y_train)"
   ]
  },
  {
   "cell_type": "code",
   "execution_count": null,
   "id": "483af5f5",
   "metadata": {},
   "outputs": [],
   "source": [
    "y_pred=clf.predict(x_test)"
   ]
  },
  {
   "cell_type": "code",
   "execution_count": null,
   "id": "10764054",
   "metadata": {},
   "outputs": [],
   "source": [
    "from sklearn import metrics\n",
    "score=metrics.accuracy_score(y_test,y_pred)"
   ]
  },
  {
   "cell_type": "code",
   "execution_count": null,
   "id": "2ba70508",
   "metadata": {},
   "outputs": [],
   "source": [
    "metrics.precision_score(y_test,y_pred)"
   ]
  },
  {
   "cell_type": "code",
   "execution_count": null,
   "id": "90cfce63",
   "metadata": {},
   "outputs": [],
   "source": [
    "score"
   ]
  },
  {
   "cell_type": "code",
   "execution_count": null,
   "id": "ad37c6ef",
   "metadata": {},
   "outputs": [],
   "source": [
    "metrics.recall_score(y_test,y_pred)"
   ]
  },
  {
   "cell_type": "code",
   "execution_count": null,
   "id": "91615543",
   "metadata": {},
   "outputs": [],
   "source": [
    "from sklearn.metrics import confusion_matrix"
   ]
  },
  {
   "cell_type": "code",
   "execution_count": null,
   "id": "fd13c011",
   "metadata": {},
   "outputs": [],
   "source": [
    "cm=confusion_matrix(y_test,y_pred)"
   ]
  },
  {
   "cell_type": "code",
   "execution_count": null,
   "id": "bd53780e",
   "metadata": {},
   "outputs": [],
   "source": [
    "cm"
   ]
  },
  {
   "cell_type": "code",
   "execution_count": null,
   "id": "e8bae6fa",
   "metadata": {},
   "outputs": [],
   "source": [
    "import seaborn as sns\n",
    "import matplotlib.pyplot as plt\n",
    "plt.figure(figsize=(12,12))\n",
    "sns.heatmap(cm,annot=True,fmt='.3f',linewidths=.5,square=True,cmap='Spectral')\n",
    "plt.ylabel('Actual Label')\n",
    "plt.xlabel('Predicted Label')\n",
    "all_sample_title='SVM Model Acccuracy (in %): {0}'.format(score*100)\n",
    "plt.title(all_sample_title,size=15)"
   ]
  },
  {
   "cell_type": "code",
   "execution_count": null,
   "id": "eeced698",
   "metadata": {},
   "outputs": [],
   "source": [
    "import cv2 as cv\n",
    "img=cv.imread('./New folder/2.png')"
   ]
  },
  {
   "cell_type": "code",
   "execution_count": null,
   "id": "06a966bb",
   "metadata": {},
   "outputs": [],
   "source": [
    "gray=cv.cvtColor(img,cv.COLOR_BGR2GRAY)"
   ]
  },
  {
   "cell_type": "code",
   "execution_count": null,
   "id": "2bd54c71",
   "metadata": {},
   "outputs": [],
   "source": [
    "(thresh,binary)=cv.threshold(gray,127,255,cv.THRESH_BINARY)"
   ]
  },
  {
   "cell_type": "code",
   "execution_count": null,
   "id": "ae7f9e67",
   "metadata": {},
   "outputs": [],
   "source": [
    "cv.imshow('binary',binary)\n",
    "cv.waitKey(0)\n",
    "cv.destroyAllWindows()"
   ]
  },
  {
   "cell_type": "code",
   "execution_count": null,
   "id": "4e8321ed",
   "metadata": {},
   "outputs": [],
   "source": [
    "cv.imshow('original',img)\n",
    "cv.waitKey(0)\n",
    "cv.destroyAllWindows()"
   ]
  },
  {
   "cell_type": "code",
   "execution_count": null,
   "id": "433d4e51",
   "metadata": {},
   "outputs": [],
   "source": [
    "cv.imshow('thresh',thresh)\n",
    "cv.waitKey(0)\n",
    "cv.destroyAllWindows()"
   ]
  },
  {
   "cell_type": "code",
   "execution_count": null,
   "id": "ee983f90",
   "metadata": {},
   "outputs": [],
   "source": [
    "cv.imshow('gray',gray)\n",
    "cv.waitKey(0)\n",
    "cv.destroyAllWindows()"
   ]
  },
  {
   "cell_type": "code",
   "execution_count": null,
   "id": "3eb85ca3",
   "metadata": {},
   "outputs": [],
   "source": [
    "cv.imwrite('gray_image.png',gray)"
   ]
  },
  {
   "cell_type": "code",
   "execution_count": null,
   "id": "a9a2b632",
   "metadata": {},
   "outputs": [],
   "source": [
    "cv.imwrite('black &white_image.png',binary)"
   ]
  },
  {
   "cell_type": "code",
   "execution_count": null,
   "id": "f548e526",
   "metadata": {},
   "outputs": [],
   "source": [
    "binary=cv.resize(binary,(555,500))"
   ]
  },
  {
   "cell_type": "code",
   "execution_count": null,
   "id": "79b33b7f",
   "metadata": {},
   "outputs": [],
   "source": [
    "import cv2 as cv\n",
    "cap=cv.VideoCapture('Ya_Rahman_-_Qari_Mashary.MP4')\n",
    "# indicatr\n",
    "# if (cap.isOpened()==False):\n",
    "#     print('Error')\n",
    "# reading and playing\n",
    "while (cap.isOpened()):\n",
    "    ret,frame=cap.read()\n",
    "    if ret==True:\n",
    "        cv.imshow('Video',frame)\n",
    "        if cv.waitKey(1) & 0xFF==ord('q'):\n",
    "            break\n",
    "    else:\n",
    "        break\n",
    "cap.release()\n",
    "cv.destroyAllWindows()"
   ]
  },
  {
   "cell_type": "code",
   "execution_count": null,
   "id": "87f7dbe9",
   "metadata": {},
   "outputs": [],
   "source": [
    "import cv2 as cv\n",
    "cap=cv.VideoCapture('Ya_Rahman_-_Qari_Mashary.MP4')\n",
    "while (True):\n",
    "    (ret,frame)=cap.read()\n",
    "    grayframe=cv."
   ]
  },
  {
   "cell_type": "code",
   "execution_count": null,
   "id": "1d3e5e1f",
   "metadata": {},
   "outputs": [],
   "source": [
    "import cv2 as cv\n",
    "cap=cv.VideoCapture('Ya_Rahman_-_Qari_Mashary.MP4')\n",
    "while (True):\n",
    "    (ret,frame)=cap.read()\n",
    "    grayframe=cv.cvtColor(frame,cv.COLOR_BGR2GRAY)\n",
    "    (thresh,binary)=cv.threshold(grayframe,127,255,cv.THRESH_BINARY)\n",
    "    if ret==True:\n",
    "        cv.imshow('Video',binary)\n",
    "        if cv.waitKey(1) & 0xFF==ord('q'):\n",
    "            break"
   ]
  },
  {
   "cell_type": "code",
   "execution_count": 4,
   "id": "8d9bc9b2",
   "metadata": {},
   "outputs": [],
   "source": [
    "import cv2 as cv\n",
    "cap=cv.VideoCapture('Ya_Rahman_-_Qari_Mashary.MP4')\n",
    "frame_width=int(cap.get(3))\n",
    "frame_height=int(cap.get(4))\n",
    "out=cv.VideoWriter('Ouput_video.mp4',cv.VideoWriter_fourcc('M','j','P','G'),10,(frame_width,frame_height))\n",
    "while (True):\n",
    "    (ret,frame)=cap.read()\n",
    "    grayframe=cv.cvtColor(frame,cv.COLOR_BGR2GRAY)\n",
    "\n",
    "    if ret==True:\n",
    "        out.write(grayframe)\n",
    "        cv.imshow('Video',grayframe)\n",
    "        if cv.waitKey(1) & 0xFF==ord('q'):\n",
    "            break"
   ]
  },
  {
   "cell_type": "code",
   "execution_count": null,
   "id": "d471a355",
   "metadata": {},
   "outputs": [],
   "source": [
    "import cv2 as cv\n",
    "cap=cv.VideoCapture('Ya_Rahman_-_Qari_Mashary.MP4')\n",
    "frame_width=int(cap.get(3))\n",
    "frame_height=int(cap.get(4))\n",
    "out=cv.VideoWriter('Ouput_video.mp4',cv.VideoWriter_fourcc('M','j','P','G'),10,(frame_width,frame_height),isColor=False)\n",
    "while (True):\n",
    "    (ret,frame)=cap.read()\n",
    "    grayframe=cv.cvtColor(frame,cv.COLOR_BGR2GRAY)\n",
    "\n",
    "    if ret==True:\n",
    "        out.write(grayframe)\n",
    "        cv.imshow('Video',grayframe)\n",
    "        if cv.waitKey(1) & 0xFF==ord('q'):\n",
    "            break\n",
    "cap.release()\n",
    "out.release()\n",
    "cv.destroyAllWindows()"
   ]
  },
  {
   "cell_type": "code",
   "execution_count": 1,
   "id": "a8f5fd19",
   "metadata": {},
   "outputs": [],
   "source": [
    "import cv2 as cv\n",
    "cap=cv.VideoCapture('Ya_Rahman_-_Qari_Mashary.MP4')\n",
    "frame_width=int(cap.get(3))\n",
    "frame_height=int(cap.get(4))\n",
    "out=cv.VideoWriter('Ouput_video.avi',cv.VideoWriter_fourcc('M','j','P','G'),10,(frame_width,frame_height),isColor=False)\n",
    "while (True):\n",
    "    (ret,frame)=cap.read()\n",
    "    grayframe=cv.cvtColor(frame,cv.COLOR_BGR2GRAY)\n",
    "\n",
    "    if ret==True:\n",
    "        out.write(grayframe)\n",
    "        cv.imshow('Video',grayframe)\n",
    "        if cv.waitKey(1) & 0xFF==ord('q'):\n",
    "            break\n",
    "cap.release()\n",
    "out.release()\n",
    "cv.destroyAllWindows()"
   ]
  },
  {
   "cell_type": "code",
   "execution_count": 3,
   "id": "63c43dc9",
   "metadata": {},
   "outputs": [
    {
     "ename": "AttributeError",
     "evalue": "'cv2.VideoCapture' object has no attribute 'destroyAllWindows'",
     "output_type": "error",
     "traceback": [
      "\u001b[1;31m---------------------------------------------------------------------------\u001b[0m",
      "\u001b[1;31mAttributeError\u001b[0m                            Traceback (most recent call last)",
      "Input \u001b[1;32mIn [3]\u001b[0m, in \u001b[0;36m<cell line: 13>\u001b[1;34m()\u001b[0m\n\u001b[0;32m     11\u001b[0m             \u001b[38;5;28;01mbreak\u001b[39;00m\n\u001b[0;32m     12\u001b[0m cap\u001b[38;5;241m.\u001b[39mrelease()\n\u001b[1;32m---> 13\u001b[0m \u001b[43mcap\u001b[49m\u001b[38;5;241;43m.\u001b[39;49m\u001b[43mdestroyAllWindows\u001b[49m()\n",
      "\u001b[1;31mAttributeError\u001b[0m: 'cv2.VideoCapture' object has no attribute 'destroyAllWindows'"
     ]
    }
   ],
   "source": [
    "import cv2 as cv\n",
    "import numpy as np\n",
    "cap=cv.VideoCapture(0)\n",
    "while (cap.isOpened()):\n",
    "    ret,frame=cap.read()\n",
    "    if ret==True:\n",
    "        cv.imshow('frame',frame)\n",
    "        if cv.waitKey(1) & 0xFF==ord('q'):\n",
    "            break\n",
    "        else:\n",
    "            break\n",
    "cap.release()\n",
    "cap.destroyAllWindows()"
   ]
  },
  {
   "cell_type": "code",
   "execution_count": null,
   "id": "1aaca366",
   "metadata": {},
   "outputs": [],
   "source": []
  }
 ],
 "metadata": {
  "kernelspec": {
   "display_name": "Python 3 (ipykernel)",
   "language": "python",
   "name": "python3"
  },
  "language_info": {
   "codemirror_mode": {
    "name": "ipython",
    "version": 3
   },
   "file_extension": ".py",
   "mimetype": "text/x-python",
   "name": "python",
   "nbconvert_exporter": "python",
   "pygments_lexer": "ipython3",
   "version": "3.10.5"
  },
  "vscode": {
   "interpreter": {
    "hash": "8c3d4d9970fc5c09c50d9318a9c7fbf4d0159e4b28833276f5678ee22bded273"
   }
  }
 },
 "nbformat": 4,
 "nbformat_minor": 5
}
